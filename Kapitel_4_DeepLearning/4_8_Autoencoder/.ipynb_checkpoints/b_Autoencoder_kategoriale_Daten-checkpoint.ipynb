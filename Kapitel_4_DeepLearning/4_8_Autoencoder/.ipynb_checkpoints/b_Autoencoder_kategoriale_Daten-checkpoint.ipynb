{
 "cells": [
  {
   "cell_type": "markdown",
   "metadata": {},
   "source": [
    "# Abschnitt 4.8: Autoencoder mit kategorialen Daten\n",
    "### 1) Daten einlesen"
   ]
  },
  {
   "cell_type": "code",
   "execution_count": 1,
   "metadata": {},
   "outputs": [
    {
     "data": {
      "text/html": [
       "<div>\n",
       "<style scoped>\n",
       "    .dataframe tbody tr th:only-of-type {\n",
       "        vertical-align: middle;\n",
       "    }\n",
       "\n",
       "    .dataframe tbody tr th {\n",
       "        vertical-align: top;\n",
       "    }\n",
       "\n",
       "    .dataframe thead th {\n",
       "        text-align: right;\n",
       "    }\n",
       "</style>\n",
       "<table border=\"1\" class=\"dataframe\">\n",
       "  <thead>\n",
       "    <tr style=\"text-align: right;\">\n",
       "      <th></th>\n",
       "      <th>Alcohol</th>\n",
       "      <th>Education</th>\n",
       "      <th>Age</th>\n",
       "      <th>Smoking</th>\n",
       "      <th>Bmi</th>\n",
       "      <th>Horror</th>\n",
       "      <th>Thriller</th>\n",
       "      <th>Comedy</th>\n",
       "      <th>Romantic</th>\n",
       "      <th>Sci-fi</th>\n",
       "      <th>...</th>\n",
       "      <th>Passive sport</th>\n",
       "      <th>Active sport</th>\n",
       "      <th>Gardening</th>\n",
       "      <th>Celebrities</th>\n",
       "      <th>Shopping</th>\n",
       "      <th>Science and technology</th>\n",
       "      <th>Theatre</th>\n",
       "      <th>Fun with friends</th>\n",
       "      <th>Adrenaline sports</th>\n",
       "      <th>Pets</th>\n",
       "    </tr>\n",
       "  </thead>\n",
       "  <tbody>\n",
       "    <tr>\n",
       "      <th>0</th>\n",
       "      <td>drink a lot</td>\n",
       "      <td>college/bachelor degree</td>\n",
       "      <td>20.0</td>\n",
       "      <td>never smoked</td>\n",
       "      <td>18.066167</td>\n",
       "      <td>1</td>\n",
       "      <td>0</td>\n",
       "      <td>1</td>\n",
       "      <td>1</td>\n",
       "      <td>1</td>\n",
       "      <td>...</td>\n",
       "      <td>0</td>\n",
       "      <td>1</td>\n",
       "      <td>1</td>\n",
       "      <td>0</td>\n",
       "      <td>1</td>\n",
       "      <td>1</td>\n",
       "      <td>0</td>\n",
       "      <td>1</td>\n",
       "      <td>1</td>\n",
       "      <td>1</td>\n",
       "    </tr>\n",
       "    <tr>\n",
       "      <th>1</th>\n",
       "      <td>drink a lot</td>\n",
       "      <td>college/bachelor degree</td>\n",
       "      <td>19.0</td>\n",
       "      <td>never smoked</td>\n",
       "      <td>21.829952</td>\n",
       "      <td>0</td>\n",
       "      <td>0</td>\n",
       "      <td>1</td>\n",
       "      <td>0</td>\n",
       "      <td>1</td>\n",
       "      <td>...</td>\n",
       "      <td>0</td>\n",
       "      <td>0</td>\n",
       "      <td>0</td>\n",
       "      <td>0</td>\n",
       "      <td>0</td>\n",
       "      <td>0</td>\n",
       "      <td>0</td>\n",
       "      <td>1</td>\n",
       "      <td>0</td>\n",
       "      <td>1</td>\n",
       "    </tr>\n",
       "    <tr>\n",
       "      <th>2</th>\n",
       "      <td>drink a lot</td>\n",
       "      <td>secondary school</td>\n",
       "      <td>20.0</td>\n",
       "      <td>tried smoking</td>\n",
       "      <td>21.629649</td>\n",
       "      <td>0</td>\n",
       "      <td>1</td>\n",
       "      <td>1</td>\n",
       "      <td>0</td>\n",
       "      <td>1</td>\n",
       "      <td>...</td>\n",
       "      <td>1</td>\n",
       "      <td>0</td>\n",
       "      <td>0</td>\n",
       "      <td>0</td>\n",
       "      <td>1</td>\n",
       "      <td>0</td>\n",
       "      <td>1</td>\n",
       "      <td>1</td>\n",
       "      <td>1</td>\n",
       "      <td>1</td>\n",
       "    </tr>\n",
       "    <tr>\n",
       "      <th>3</th>\n",
       "      <td>drink a lot</td>\n",
       "      <td>college/bachelor degree</td>\n",
       "      <td>22.0</td>\n",
       "      <td>former smoker</td>\n",
       "      <td>19.943213</td>\n",
       "      <td>1</td>\n",
       "      <td>1</td>\n",
       "      <td>0</td>\n",
       "      <td>0</td>\n",
       "      <td>1</td>\n",
       "      <td>...</td>\n",
       "      <td>0</td>\n",
       "      <td>0</td>\n",
       "      <td>0</td>\n",
       "      <td>0</td>\n",
       "      <td>1</td>\n",
       "      <td>0</td>\n",
       "      <td>0</td>\n",
       "      <td>0</td>\n",
       "      <td>0</td>\n",
       "      <td>0</td>\n",
       "    </tr>\n",
       "    <tr>\n",
       "      <th>4</th>\n",
       "      <td>social drinker</td>\n",
       "      <td>secondary school</td>\n",
       "      <td>20.0</td>\n",
       "      <td>tried smoking</td>\n",
       "      <td>20.415225</td>\n",
       "      <td>1</td>\n",
       "      <td>1</td>\n",
       "      <td>1</td>\n",
       "      <td>0</td>\n",
       "      <td>0</td>\n",
       "      <td>...</td>\n",
       "      <td>0</td>\n",
       "      <td>0</td>\n",
       "      <td>1</td>\n",
       "      <td>0</td>\n",
       "      <td>0</td>\n",
       "      <td>0</td>\n",
       "      <td>0</td>\n",
       "      <td>1</td>\n",
       "      <td>0</td>\n",
       "      <td>0</td>\n",
       "    </tr>\n",
       "  </tbody>\n",
       "</table>\n",
       "<p>5 rows × 65 columns</p>\n",
       "</div>"
      ],
      "text/plain": [
       "          Alcohol                Education   Age        Smoking        Bmi  \\\n",
       "0     drink a lot  college/bachelor degree  20.0   never smoked  18.066167   \n",
       "1     drink a lot  college/bachelor degree  19.0   never smoked  21.829952   \n",
       "2     drink a lot         secondary school  20.0  tried smoking  21.629649   \n",
       "3     drink a lot  college/bachelor degree  22.0  former smoker  19.943213   \n",
       "4  social drinker         secondary school  20.0  tried smoking  20.415225   \n",
       "\n",
       "   Horror  Thriller  Comedy  Romantic  Sci-fi  ...  Passive sport  \\\n",
       "0       1         0       1         1       1  ...              0   \n",
       "1       0         0       1         0       1  ...              0   \n",
       "2       0         1       1         0       1  ...              1   \n",
       "3       1         1       0         0       1  ...              0   \n",
       "4       1         1       1         0       0  ...              0   \n",
       "\n",
       "   Active sport  Gardening  Celebrities  Shopping  Science and technology  \\\n",
       "0             1          1            0         1                       1   \n",
       "1             0          0            0         0                       0   \n",
       "2             0          0            0         1                       0   \n",
       "3             0          0            0         1                       0   \n",
       "4             0          1            0         0                       0   \n",
       "\n",
       "   Theatre  Fun with friends  Adrenaline sports  Pets  \n",
       "0        0                 1                  1     1  \n",
       "1        0                 1                  0     1  \n",
       "2        1                 1                  1     1  \n",
       "3        0                 0                  0     0  \n",
       "4        0                 1                  0     0  \n",
       "\n",
       "[5 rows x 65 columns]"
      ]
     },
     "execution_count": 1,
     "metadata": {},
     "output_type": "execute_result"
    }
   ],
   "source": [
    "import pandas as pd\n",
    "from math import ceil\n",
    "\n",
    "pd.set_option('display.max_columns', 20)\n",
    "\n",
    "data_url=r'https://github.com/tplusone/hanser_ml_zeitreihen/blob/master/Daten/music_movies_interests_pref.csv?raw=true'\n",
    "df = pd.read_csv(data_url)\n",
    "df.head()"
   ]
  },
  {
   "cell_type": "markdown",
   "metadata": {},
   "source": [
    "### 2) Einteilung Train-/Test"
   ]
  },
  {
   "cell_type": "code",
   "execution_count": 2,
   "metadata": {},
   "outputs": [
    {
     "data": {
      "text/plain": [
       "((709, 60), (79, 60))"
      ]
     },
     "execution_count": 2,
     "metadata": {},
     "output_type": "execute_result"
    }
   ],
   "source": [
    "df_train = df.sample(frac=.9, random_state=11)\n",
    "df_test = df.drop(df_train.index)\n",
    "X_train = df_train.drop(['Alcohol','Education', 'Age', 'Smoking', 'Bmi'], axis=1).values\n",
    "X_test = df_test.drop(['Alcohol','Education', 'Age', 'Smoking', 'Bmi'], axis=1).values\n",
    "X_train.shape, X_test.shape"
   ]
  },
  {
   "cell_type": "markdown",
   "metadata": {},
   "source": [
    "### 3) Autoencoder zusammenstellen"
   ]
  },
  {
   "cell_type": "code",
   "execution_count": 3,
   "metadata": {},
   "outputs": [
    {
     "name": "stdout",
     "output_type": "stream",
     "text": [
      "Model: \"model\"\n",
      "_________________________________________________________________\n",
      "Layer (type)                 Output Shape              Param #   \n",
      "=================================================================\n",
      "input (InputLayer)           [(None, 60)]              0         \n",
      "_________________________________________________________________\n",
      "encoder_1 (Dense)            (None, 90)                5490      \n",
      "_________________________________________________________________\n",
      "encoder_out (Dense)          (None, 20)                1820      \n",
      "_________________________________________________________________\n",
      "decoder_out (Dense)          (None, 60)                1260      \n",
      "=================================================================\n",
      "Total params: 8,570\n",
      "Trainable params: 8,570\n",
      "Non-trainable params: 0\n",
      "_________________________________________________________________\n"
     ]
    }
   ],
   "source": [
    "from tensorflow.keras.models import Model\n",
    "from tensorflow.keras.layers import Dense, Input\n",
    "from tensorflow.keras.regularizers import l2\n",
    "\n",
    "reg = l2(.0001)\n",
    "input = Input(shape=(60,), name='input')\n",
    "layer = Dense(units=90, activation='relu', \n",
    "                kernel_regularizer=reg,\n",
    "                name='encoder_1')(input)\n",
    "layer = Dense(units=20, activation='relu', \n",
    "                kernel_regularizer=reg,\n",
    "                name='encoder_out')(layer)\n",
    "layer = Dense(units=60, activation='sigmoid', \n",
    "                kernel_regularizer=reg, \n",
    "                name='decoder_out')(layer)\n",
    "autoencoder = Model(input, layer)\n",
    "autoencoder.compile(loss='binary_crossentropy', \n",
    "                    optimizer='adam', metrics=['accuracy'])\n",
    "autoencoder.summary()"
   ]
  },
  {
   "cell_type": "markdown",
   "metadata": {},
   "source": [
    "### 4) Autoencoder anlernen"
   ]
  },
  {
   "cell_type": "code",
   "execution_count": 4,
   "metadata": {},
   "outputs": [
    {
     "name": "stdout",
     "output_type": "stream",
     "text": [
      "79/79 [==============================] - 0s 198us/sample - loss: 0.2855 - accuracy: 0.8951\n"
     ]
    },
    {
     "data": {
      "text/plain": [
       "[0.28548082520690143, 0.8951477]"
      ]
     },
     "execution_count": 4,
     "metadata": {},
     "output_type": "execute_result"
    }
   ],
   "source": [
    "from tensorflow.keras.callbacks import (ModelCheckpoint, \n",
    "                                        EarlyStopping)\n",
    "from tensorflow.keras.models import load_model\n",
    "\n",
    "check = ModelCheckpoint(filepath='autoencoder_ohe.h5', \n",
    "                        monitor='val_loss', save_best_only=True)\n",
    "early = EarlyStopping(monitor='val_loss', patience=10)\n",
    "\n",
    "history = autoencoder.fit(X_train, X_train, \n",
    "                validation_data=(X_test, X_test), \n",
    "                epochs=200, batch_size=8, \n",
    "                callbacks=[check, early], verbose=False)\n",
    "\n",
    "autoencoder.evaluate(X_test, X_test)"
   ]
  },
  {
   "cell_type": "markdown",
   "metadata": {},
   "source": [
    "### 5) Evaluation: Anzahl einzigartiger Predictions zählen"
   ]
  },
  {
   "cell_type": "code",
   "execution_count": 5,
   "metadata": {},
   "outputs": [
    {
     "name": "stdout",
     "output_type": "stream",
     "text": [
      "number of unique predictions: 79, total predictions: 79\n"
     ]
    }
   ],
   "source": [
    "import numpy as np\n",
    "\n",
    "def count_unique_pred(y_pred):\n",
    "    unique = []\n",
    "    for i in range(0, len(y_pred)):\n",
    "        temp = y_pred[i].astype(np.int)\n",
    "        temp = ''.join(map(str,list(temp)))\n",
    "        if i==0:\n",
    "            unique.append(temp)\n",
    "            continue\n",
    "        if temp in unique:\n",
    "            continue\n",
    "        else:\n",
    "            unique.append(temp)\n",
    "    return unique\n",
    "\n",
    "X_test_re = np.round(autoencoder.predict(X_test))\n",
    "unique = count_unique_pred(X_test_re)\n",
    "print('number of unique predictions: {}, total predictions: {}'.format(len(unique), len(X_test_re)))"
   ]
  },
  {
   "cell_type": "markdown",
   "metadata": {},
   "source": [
    "### 6) Encoder auskoppeln"
   ]
  },
  {
   "cell_type": "code",
   "execution_count": 6,
   "metadata": {},
   "outputs": [
    {
     "name": "stdout",
     "output_type": "stream",
     "text": [
      "Model: \"model_1\"\n",
      "_________________________________________________________________\n",
      "Layer (type)                 Output Shape              Param #   \n",
      "=================================================================\n",
      "input (InputLayer)           [(None, 60)]              0         \n",
      "_________________________________________________________________\n",
      "encoder_1 (Dense)            (None, 90)                5490      \n",
      "_________________________________________________________________\n",
      "encoder_out (Dense)          (None, 20)                1820      \n",
      "=================================================================\n",
      "Total params: 7,310\n",
      "Trainable params: 7,310\n",
      "Non-trainable params: 0\n",
      "_________________________________________________________________\n"
     ]
    }
   ],
   "source": [
    "from tensorflow.keras.models import load_model, Model\n",
    "\n",
    "autoencoder = load_model('autoencoder_ohe.h5')\n",
    "input_layer = autoencoder.get_layer('input').input\n",
    "encoder_layer = autoencoder.get_layer('encoder_out').output\n",
    "\n",
    "encoder = Model(input_layer, encoder_layer)\n",
    "encoder.summary()"
   ]
  },
  {
   "cell_type": "markdown",
   "metadata": {},
   "source": [
    "### 7) Daten transformieren"
   ]
  },
  {
   "cell_type": "code",
   "execution_count": 7,
   "metadata": {},
   "outputs": [
    {
     "data": {
      "text/plain": [
       "((709, 20), (79, 20))"
      ]
     },
     "execution_count": 7,
     "metadata": {},
     "output_type": "execute_result"
    }
   ],
   "source": [
    "X_train_dim = encoder.predict(X_train)\n",
    "X_test_dim = encoder.predict(X_test)\n",
    "X_train_dim.shape, X_test_dim.shape"
   ]
  },
  {
   "cell_type": "markdown",
   "metadata": {},
   "source": [
    "### 8) Tests: Regression mit dimensionsreduzierten Daten auf Alter der Person"
   ]
  },
  {
   "cell_type": "code",
   "execution_count": 8,
   "metadata": {},
   "outputs": [
    {
     "name": "stdout",
     "output_type": "stream",
     "text": [
      "r2: 0.113\n"
     ]
    }
   ],
   "source": [
    "from sklearn.linear_model import LinearRegression\n",
    "\n",
    "linear = LinearRegression()\n",
    "linear.fit(X_train_dim, df_train['Age'])\n",
    "r2 = linear.score(X_test_dim, df_test['Age'])\n",
    "print('r2: {:.3f}'.format(r2))"
   ]
  },
  {
   "cell_type": "markdown",
   "metadata": {},
   "source": [
    "#### Zum Vergleich: Mit Originaldaten"
   ]
  },
  {
   "cell_type": "code",
   "execution_count": 9,
   "metadata": {},
   "outputs": [
    {
     "name": "stdout",
     "output_type": "stream",
     "text": [
      "r2: 0.099\n"
     ]
    }
   ],
   "source": [
    "linear = LinearRegression()\n",
    "linear.fit(X_train, df_train['Age'])\n",
    "r2 = linear.score(X_test, df_test['Age'])\n",
    "print('r2: {:.3f}'.format(r2))"
   ]
  }
 ],
 "metadata": {
  "kernelspec": {
   "display_name": "Python 3",
   "language": "python",
   "name": "python3"
  },
  "language_info": {
   "codemirror_mode": {
    "name": "ipython",
    "version": 3
   },
   "file_extension": ".py",
   "mimetype": "text/x-python",
   "name": "python",
   "nbconvert_exporter": "python",
   "pygments_lexer": "ipython3",
   "version": "3.7.7"
  }
 },
 "nbformat": 4,
 "nbformat_minor": 4
}
