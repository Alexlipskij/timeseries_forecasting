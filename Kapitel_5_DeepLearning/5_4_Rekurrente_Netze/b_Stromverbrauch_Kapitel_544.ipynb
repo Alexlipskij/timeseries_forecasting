{
 "cells": [
  {
   "cell_type": "markdown",
   "metadata": {},
   "source": [
    "## Mit Zeitfenstern arbeiten (Kapitel 5.4.4)\n",
    "### Stromverbrauchsdaten"
   ]
  },
  {
   "cell_type": "markdown",
   "metadata": {},
   "source": [
    "### 1) Daten laden und Datumsangaben parsen"
   ]
  },
  {
   "cell_type": "code",
   "execution_count": 4,
   "metadata": {},
   "outputs": [
    {
     "data": {
      "text/html": [
       "<div>\n",
       "<style scoped>\n",
       "    .dataframe tbody tr th:only-of-type {\n",
       "        vertical-align: middle;\n",
       "    }\n",
       "\n",
       "    .dataframe tbody tr th {\n",
       "        vertical-align: top;\n",
       "    }\n",
       "\n",
       "    .dataframe thead th {\n",
       "        text-align: right;\n",
       "    }\n",
       "</style>\n",
       "<table border=\"1\" class=\"dataframe\">\n",
       "  <thead>\n",
       "    <tr style=\"text-align: right;\">\n",
       "      <th></th>\n",
       "      <th>Global_active_power</th>\n",
       "      <th>Global_reactive_power</th>\n",
       "      <th>Voltage</th>\n",
       "      <th>...</th>\n",
       "      <th>Sub_metering_3</th>\n",
       "      <th>weekday</th>\n",
       "      <th>hour</th>\n",
       "    </tr>\n",
       "    <tr>\n",
       "      <th>Date</th>\n",
       "      <th></th>\n",
       "      <th></th>\n",
       "      <th></th>\n",
       "      <th></th>\n",
       "      <th></th>\n",
       "      <th></th>\n",
       "      <th></th>\n",
       "    </tr>\n",
       "  </thead>\n",
       "  <tbody>\n",
       "    <tr>\n",
       "      <th>2006-12-16 17:00:00</th>\n",
       "      <td>4.223</td>\n",
       "      <td>0.229</td>\n",
       "      <td>234.644</td>\n",
       "      <td>...</td>\n",
       "      <td>16.861</td>\n",
       "      <td>5</td>\n",
       "      <td>17</td>\n",
       "    </tr>\n",
       "    <tr>\n",
       "      <th>2006-12-16 18:00:00</th>\n",
       "      <td>3.632</td>\n",
       "      <td>0.080</td>\n",
       "      <td>234.580</td>\n",
       "      <td>...</td>\n",
       "      <td>16.867</td>\n",
       "      <td>5</td>\n",
       "      <td>18</td>\n",
       "    </tr>\n",
       "    <tr>\n",
       "      <th>2006-12-16 19:00:00</th>\n",
       "      <td>3.400</td>\n",
       "      <td>0.085</td>\n",
       "      <td>233.232</td>\n",
       "      <td>...</td>\n",
       "      <td>16.683</td>\n",
       "      <td>5</td>\n",
       "      <td>19</td>\n",
       "    </tr>\n",
       "    <tr>\n",
       "      <th>2006-12-16 20:00:00</th>\n",
       "      <td>3.269</td>\n",
       "      <td>0.075</td>\n",
       "      <td>234.072</td>\n",
       "      <td>...</td>\n",
       "      <td>16.783</td>\n",
       "      <td>5</td>\n",
       "      <td>20</td>\n",
       "    </tr>\n",
       "    <tr>\n",
       "      <th>2006-12-16 21:00:00</th>\n",
       "      <td>3.056</td>\n",
       "      <td>0.077</td>\n",
       "      <td>237.159</td>\n",
       "      <td>...</td>\n",
       "      <td>17.217</td>\n",
       "      <td>5</td>\n",
       "      <td>21</td>\n",
       "    </tr>\n",
       "  </tbody>\n",
       "</table>\n",
       "<p>5 rows × 9 columns</p>\n",
       "</div>"
      ],
      "text/plain": [
       "                     Global_active_power  Global_reactive_power  Voltage  ...  \\\n",
       "Date                                                                      ...   \n",
       "2006-12-16 17:00:00                4.223                  0.229  234.644  ...   \n",
       "2006-12-16 18:00:00                3.632                  0.080  234.580  ...   \n",
       "2006-12-16 19:00:00                3.400                  0.085  233.232  ...   \n",
       "2006-12-16 20:00:00                3.269                  0.075  234.072  ...   \n",
       "2006-12-16 21:00:00                3.056                  0.077  237.159  ...   \n",
       "\n",
       "                     Sub_metering_3  weekday  hour  \n",
       "Date                                                \n",
       "2006-12-16 17:00:00          16.861        5    17  \n",
       "2006-12-16 18:00:00          16.867        5    18  \n",
       "2006-12-16 19:00:00          16.683        5    19  \n",
       "2006-12-16 20:00:00          16.783        5    20  \n",
       "2006-12-16 21:00:00          17.217        5    21  \n",
       "\n",
       "[5 rows x 9 columns]"
      ]
     },
     "execution_count": 4,
     "metadata": {},
     "output_type": "execute_result"
    }
   ],
   "source": [
    "import pandas as pd\n",
    "from math import ceil\n",
    "\n",
    "pd.set_option('display.max_columns', 6)\n",
    "\n",
    "data_url=r'https://github.com/tplusone/hanser_ml_zeitreihen/blob/master/Daten/householde_power_hourly.csv?raw=true'\n",
    "df = pd.read_csv(data_url)\n",
    "\n",
    "### Datum parsen und Variablen weekday und hour ableiten\n",
    "df['Date'] = pd.to_datetime(df['Date'])\n",
    "df['weekday'] = df['Date'].dt.weekday\n",
    "df['hour'] = df['Date'].dt.hour\n",
    "df = df.set_index('Date')\n",
    "\n",
    "### Daten zeigen\n",
    "df.head().round(3)"
   ]
  },
  {
   "cell_type": "markdown",
   "metadata": {},
   "source": [
    "### 2) Vorbereitung der Daten (Train-Test-Split und Standardisierung)"
   ]
  },
  {
   "cell_type": "code",
   "execution_count": 5,
   "metadata": {},
   "outputs": [
    {
     "data": {
      "text/plain": [
       "((31456, 6), (31456, 1))"
      ]
     },
     "execution_count": 5,
     "metadata": {},
     "output_type": "execute_result"
    }
   ],
   "source": [
    "## Train/Test-Split\n",
    "from math import ceil\n",
    "end_train = ceil(len(df)*0.9)\n",
    "df_train = df[:end_train]\n",
    "df_test = df[end_train:]\n",
    "df_train.shape\n",
    "\n",
    "### Selektion der Variablen, die für Analyse relevant sind\n",
    "X_train_raw = df_train[['Global_active_power', 'Global_reactive_power',\t'Voltage', 'Global_intensity', 'weekday', 'hour']].values\n",
    "y_train_raw = df_train[['Global_active_power']].values\n",
    "X_test_raw = df_test[['Global_active_power', 'Global_reactive_power',\t'Voltage', 'Global_intensity', 'weekday', 'hour']].values\n",
    "y_test_raw = df_test[['Global_active_power']].values\n",
    "\n",
    "### Standardisierung von X\n",
    "from sklearn.preprocessing import StandardScaler\n",
    "scaler_x = StandardScaler()\n",
    "scaler_x.fit(X_train_raw)\n",
    "X_train_std = scaler_x.transform(X_train_raw)\n",
    "X_test_std = scaler_x.transform(X_test_raw)\n",
    "\n",
    "### Standardisierung von y\n",
    "scaler_y = StandardScaler()\n",
    "scaler_y.fit(y_train_raw)\n",
    "y_train_std = scaler_y.transform(y_train_raw)\n",
    "y_test_std = scaler_y.transform(y_test_raw)\n",
    "\n",
    "X_train_std.shape, y_train_std.shape"
   ]
  },
  {
   "cell_type": "markdown",
   "metadata": {},
   "source": [
    "## 3) Restrukturierung der Daten\n",
    "Vorbereitung der Daten für rekurrente Layer, die die Daten im dreiminensionalen Format erwartet"
   ]
  },
  {
   "cell_type": "code",
   "execution_count": 9,
   "metadata": {},
   "outputs": [
    {
     "data": {
      "text/plain": [
       "((31282, 168, 6), (31282, 1), (3321, 168, 6), (3321, 1))"
      ]
     },
     "execution_count": 9,
     "metadata": {},
     "output_type": "execute_result"
    }
   ],
   "source": [
    "import numpy as np\n",
    "### Definition der Restrukturierungs-Funktion\n",
    "\n",
    "def restructure_data(X, y, window, horizon):\n",
    "    X_, y_ = [], []\n",
    "    idx_range = range(len(X) - (window + horizon))\n",
    "    for idx in idx_range:\n",
    "        X_.append(X[idx:idx+window])\n",
    "        y_.append(y[idx+window+horizon])\n",
    "    X_ = np.array(X_)\n",
    "    y_ = np.array(y_)\n",
    "    return X_, y_\n",
    "\n",
    "### Anwendung der Funktion auf vorbereitete Daten\n",
    "window=24*7\n",
    "horizon=6\n",
    "indicators=6\n",
    "\n",
    "X_train, y_train = restructure_data(X_train_std, y_train_std, window=window, horizon=horizon)\n",
    "X_test, y_test = restructure_data(X_test_std, y_test_std, window=window, horizon=horizon)\n",
    "\n",
    "X_train.shape, y_train.shape, X_test.shape, y_test.shape"
   ]
  },
  {
   "cell_type": "markdown",
   "metadata": {},
   "source": [
    "## 4) Aufbau des Neuronalen Netzes\n",
    "Achtung: Im Vergleich zum Buch wird hier in Zeile 10 der Parameter \"input_shape\" auf der Ebene des Bidirectionalen Models definiert (vgl. Klammersetzung). Dadurch kann die summary-Methode ohne vorherigen built-Befehl aufgerufen werden. Sonst gibt es keinen Unterschied zur Version im Buch. "
   ]
  },
  {
   "cell_type": "code",
   "execution_count": 20,
   "metadata": {},
   "outputs": [
    {
     "name": "stdout",
     "output_type": "stream",
     "text": [
      "Model: \"sequential_5\"\n",
      "_________________________________________________________________\n",
      "Layer (type)                 Output Shape              Param #   \n",
      "=================================================================\n",
      "bidirectional_4 (Bidirection (None, 168, 32)           2944      \n",
      "_________________________________________________________________\n",
      "lstm_10 (LSTM)               (None, 32)                8320      \n",
      "_________________________________________________________________\n",
      "dense_8 (Dense)              (None, 32)                1056      \n",
      "_________________________________________________________________\n",
      "dropout_4 (Dropout)          (None, 32)                0         \n",
      "_________________________________________________________________\n",
      "dense_9 (Dense)              (None, 1)                 33        \n",
      "=================================================================\n",
      "Total params: 12,353\n",
      "Trainable params: 12,353\n",
      "Non-trainable params: 0\n",
      "_________________________________________________________________\n"
     ]
    }
   ],
   "source": [
    "from tensorflow.keras.models import Sequential\n",
    "from tensorflow.keras.layers import (LSTM, Dense, \n",
    "                         Bidirectional, Dropout)\n",
    "\n",
    "\n",
    "### Modell aufbauen\n",
    "model = Sequential()\n",
    "model.add(Bidirectional(LSTM(units=16, return_sequences=True, dropout=0.2), \n",
    "                        input_shape=(window, indicators)))\n",
    "model.add(LSTM(units=32, dropout=0.2))\n",
    "model.add(Dense(units=32, activation='relu'))\n",
    "model.add(Dropout(0.2))\n",
    "model.add(Dense(units=1))\n",
    "model.compile(loss='mse', optimizer='rmsprop', metrics=['mae'])\n",
    "model.summary()"
   ]
  },
  {
   "cell_type": "markdown",
   "metadata": {},
   "source": [
    "## 5) Checkpoints definieren und Modell anlernen\n",
    "(Hinweis: Patience in EarlyStopping im Vergleich zum Buch auf einen Wert von 2 heruntergesetzt)"
   ]
  },
  {
   "cell_type": "code",
   "execution_count": 21,
   "metadata": {},
   "outputs": [
    {
     "name": "stdout",
     "output_type": "stream",
     "text": [
      "Train on 31282 samples, validate on 3321 samples\n",
      "Epoch 1/100\n",
      "31282/31282 [==============================] - 90s 3ms/sample - loss: 0.7594 - mae: 0.6630 - val_loss: 0.5256 - val_mae: 0.5504\n",
      "Epoch 2/100\n",
      "31282/31282 [==============================] - 102s 3ms/sample - loss: 0.6813 - mae: 0.6123 - val_loss: 0.4892 - val_mae: 0.5200\n",
      "Epoch 3/100\n",
      "31282/31282 [==============================] - 85s 3ms/sample - loss: 0.6697 - mae: 0.6039 - val_loss: 0.4698 - val_mae: 0.5098\n",
      "Epoch 4/100\n",
      "31282/31282 [==============================] - 99s 3ms/sample - loss: 0.6613 - mae: 0.6001 - val_loss: 0.4863 - val_mae: 0.5236\n",
      "Epoch 5/100\n",
      "31282/31282 [==============================] - 101s 3ms/sample - loss: 0.6537 - mae: 0.5956 - val_loss: 0.4818 - val_mae: 0.5212\n"
     ]
    }
   ],
   "source": [
    "from tensorflow.keras.callbacks import (EarlyStopping, \n",
    "                                    ModelCheckpoint)\n",
    "early = EarlyStopping(monitor='val_loss', patience=2)\n",
    "check = ModelCheckpoint(filepath='consumption_power_model.h5', \n",
    "                        monitor='val_loss', save_best_only=True)\n",
    "\n",
    "history = model.fit(X_train, y_train, \n",
    "                     epochs=100, batch_size=128, \n",
    "                     validation_data=(X_test, y_test),\n",
    "                     callbacks=[early, check])"
   ]
  },
  {
   "cell_type": "markdown",
   "metadata": {},
   "source": [
    "## 6) Predictions\n",
    "Überprüfung der Güte des NN anhand der Testdaten und verschiedener Vorhersageverfahren"
   ]
  },
  {
   "cell_type": "code",
   "execution_count": 24,
   "metadata": {},
   "outputs": [
    {
     "name": "stdout",
     "output_type": "stream",
     "text": [
      "mae, model predictions 0.463\n",
      "mae, simple predictions 0.847\n",
      "mae, simple predictions 24h 0.508\n",
      "mae, simple means predictions 0.487\n"
     ]
    }
   ],
   "source": [
    "### Bestes Modell laden\n",
    "from tensorflow.keras.models import load_model\n",
    "model = load_model('consumption_power_model.h5')\n",
    "\n",
    "### y_true extrahieren \n",
    "y_true = y_test_raw[window+horizon:]\n",
    "\n",
    "### Predictions mit verschiedenen Vorhersage-Verfahren erzeugen\n",
    "\n",
    "### Mit Neuronalem Netz (Achtung: die y-Vorhersagen müssen reskaliert werden (wegen Standardisierung))\n",
    "y_pred = model.predict(X_test)\n",
    "y_pred_inv = scaler_y.inverse_transform(y_pred) ### scaler_y ist der StandardScaler, der oben (in 2) angelernt wurde\n",
    "\n",
    "### Simple\n",
    "y_pred_simple = y_test_raw[window:len(y_test_raw)-horizon]\n",
    "\n",
    "### 24 H\n",
    "y_pred_simple24 = y_test_raw[window-18:len(y_test_raw)-(horizon+18)]\n",
    "\n",
    "## Mittelwerte über Stunden und Tage berechnen\n",
    "df_test_means =  df_test.groupby(['weekday', 'hour'])['Global_active_power'].mean()\n",
    "df_test_means = df_test_means.reset_index()\n",
    "def means_pred(x):\n",
    "    for i, el in df_test_means.iterrows():\n",
    "        if x['weekday'] == el['weekday'] and x['hour'] == el['hour']:\n",
    "            return el['Global_active_power']\n",
    "    \n",
    "y_pred_means = df_test.apply(means_pred, axis=1)\n",
    "y_pred_means_f = y_pred_means.iloc[window+horizon:]\n",
    "\n",
    "### Berechnung \"mean absolute error\" für verschiedene Lösungen:\n",
    "from sklearn.metrics import mean_absolute_error\n",
    "\n",
    "mae_model = mean_absolute_error(y_true, y_pred_inv)\n",
    "mae_simple = mean_absolute_error(y_true, y_pred_simple)\n",
    "mae_simple_24 = mean_absolute_error(y_true, y_pred_simple24)\n",
    "mae_simple_means = mean_absolute_error(y_true, y_pred_means_f)\n",
    "\n",
    "### Ergebnisse anzeigen\n",
    "print('mae, model predictions {:.3f}'.format(mae_model))\n",
    "print('mae, simple predictions {:.3f}'.format(mae_simple))\n",
    "print('mae, simple predictions 24h {:.3f}'.format(mae_simple_24))\n",
    "print('mae, simple means predictions {:.3f}'.format(mae_simple_means))"
   ]
  }
 ],
 "metadata": {
  "kernelspec": {
   "display_name": "Python 3",
   "language": "python",
   "name": "python3"
  },
  "language_info": {
   "codemirror_mode": {
    "name": "ipython",
    "version": 3
   },
   "file_extension": ".py",
   "mimetype": "text/x-python",
   "name": "python",
   "nbconvert_exporter": "python",
   "pygments_lexer": "ipython3",
   "version": "3.7.7"
  }
 },
 "nbformat": 4,
 "nbformat_minor": 4
}
