{
 "cells": [
  {
   "cell_type": "markdown",
   "metadata": {},
   "source": [
    "## Training eines rekurrenten Layers am Beispiel der Sinus-Daten"
   ]
  },
  {
   "cell_type": "markdown",
   "metadata": {},
   "source": [
    "### 1) Daten laden"
   ]
  },
  {
   "cell_type": "code",
   "execution_count": 1,
   "metadata": {},
   "outputs": [
    {
     "data": {
      "text/html": [
       "<div>\n",
       "<style scoped>\n",
       "    .dataframe tbody tr th:only-of-type {\n",
       "        vertical-align: middle;\n",
       "    }\n",
       "\n",
       "    .dataframe tbody tr th {\n",
       "        vertical-align: top;\n",
       "    }\n",
       "\n",
       "    .dataframe thead th {\n",
       "        text-align: right;\n",
       "    }\n",
       "</style>\n",
       "<table border=\"1\" class=\"dataframe\">\n",
       "  <thead>\n",
       "    <tr style=\"text-align: right;\">\n",
       "      <th></th>\n",
       "      <th>t0</th>\n",
       "      <th>t1</th>\n",
       "      <th>t2</th>\n",
       "      <th>...</th>\n",
       "      <th>t18</th>\n",
       "      <th>t19</th>\n",
       "      <th>target</th>\n",
       "    </tr>\n",
       "  </thead>\n",
       "  <tbody>\n",
       "    <tr>\n",
       "      <th>0</th>\n",
       "      <td>0.000000</td>\n",
       "      <td>0.099833</td>\n",
       "      <td>0.198669</td>\n",
       "      <td>...</td>\n",
       "      <td>0.973848</td>\n",
       "      <td>0.946300</td>\n",
       "      <td>0.141120</td>\n",
       "    </tr>\n",
       "    <tr>\n",
       "      <th>1</th>\n",
       "      <td>0.099833</td>\n",
       "      <td>0.198669</td>\n",
       "      <td>0.295520</td>\n",
       "      <td>...</td>\n",
       "      <td>0.946300</td>\n",
       "      <td>0.909297</td>\n",
       "      <td>0.041581</td>\n",
       "    </tr>\n",
       "    <tr>\n",
       "      <th>2</th>\n",
       "      <td>0.198669</td>\n",
       "      <td>0.295520</td>\n",
       "      <td>0.389418</td>\n",
       "      <td>...</td>\n",
       "      <td>0.909297</td>\n",
       "      <td>0.863209</td>\n",
       "      <td>-0.058374</td>\n",
       "    </tr>\n",
       "    <tr>\n",
       "      <th>3</th>\n",
       "      <td>0.295520</td>\n",
       "      <td>0.389418</td>\n",
       "      <td>0.479426</td>\n",
       "      <td>...</td>\n",
       "      <td>0.863209</td>\n",
       "      <td>0.808496</td>\n",
       "      <td>-0.157746</td>\n",
       "    </tr>\n",
       "    <tr>\n",
       "      <th>4</th>\n",
       "      <td>0.389418</td>\n",
       "      <td>0.479426</td>\n",
       "      <td>0.564642</td>\n",
       "      <td>...</td>\n",
       "      <td>0.808496</td>\n",
       "      <td>0.745705</td>\n",
       "      <td>-0.255541</td>\n",
       "    </tr>\n",
       "  </tbody>\n",
       "</table>\n",
       "<p>5 rows × 21 columns</p>\n",
       "</div>"
      ],
      "text/plain": [
       "         t0        t1        t2  ...       t18       t19    target\n",
       "0  0.000000  0.099833  0.198669  ...  0.973848  0.946300  0.141120\n",
       "1  0.099833  0.198669  0.295520  ...  0.946300  0.909297  0.041581\n",
       "2  0.198669  0.295520  0.389418  ...  0.909297  0.863209 -0.058374\n",
       "3  0.295520  0.389418  0.479426  ...  0.863209  0.808496 -0.157746\n",
       "4  0.389418  0.479426  0.564642  ...  0.808496  0.745705 -0.255541\n",
       "\n",
       "[5 rows x 21 columns]"
      ]
     },
     "execution_count": 1,
     "metadata": {},
     "output_type": "execute_result"
    }
   ],
   "source": [
    "import pandas as pd\n",
    "from math import ceil\n",
    "\n",
    "pd.set_option('display.max_columns', 6)\n",
    "\n",
    "data_url=r'https://github.com/tplusone/hanser_ml_zeitreihen/blob/master/Daten/rnn_sinus.csv?raw=true'\n",
    "df = pd.read_csv(data_url)\n",
    "df.head()"
   ]
  },
  {
   "cell_type": "markdown",
   "metadata": {},
   "source": [
    "### 2) x-/y-Daten extrahieren\n",
    "Hinweis: Die x-Daten werden mit reshape in die dreidimensionale Struktur gebracht, die vom RNN als Input verlangt wird. Es handelt sich um 470 Fälle von denen jeder 20 Zeiteinheiten umfasst und durch einen Indikator abgebildet wird."
   ]
  },
  {
   "cell_type": "code",
   "execution_count": 2,
   "metadata": {},
   "outputs": [
    {
     "data": {
      "text/plain": [
       "((470, 20, 1), (470,))"
      ]
     },
     "execution_count": 2,
     "metadata": {},
     "output_type": "execute_result"
    }
   ],
   "source": [
    "X = df.drop(['target'], axis=1).values\n",
    "X = X.reshape(-1, 20, 1)\n",
    "y = df['target'].values \n",
    "X.shape, y.shape"
   ]
  },
  {
   "cell_type": "markdown",
   "metadata": {},
   "source": [
    "### 3) Rekurrentes Modell aufbauen"
   ]
  },
  {
   "cell_type": "code",
   "execution_count": 3,
   "metadata": {},
   "outputs": [
    {
     "name": "stdout",
     "output_type": "stream",
     "text": [
      "Model: \"sequential\"\n",
      "_________________________________________________________________\n",
      "Layer (type)                 Output Shape              Param #   \n",
      "=================================================================\n",
      "simple_rnn (SimpleRNN)       (None, 1)                 3         \n",
      "_________________________________________________________________\n",
      "dense (Dense)                (None, 1)                 2         \n",
      "=================================================================\n",
      "Total params: 5\n",
      "Trainable params: 5\n",
      "Non-trainable params: 0\n",
      "_________________________________________________________________\n"
     ]
    }
   ],
   "source": [
    "from tensorflow.keras.models import Sequential\n",
    "from tensorflow.keras.layers import Dense, SimpleRNN\n",
    "from tensorflow.keras.callbacks import ModelCheckpoint, EarlyStopping\n",
    "\n",
    "model = Sequential()\n",
    "model.add(SimpleRNN(units=1, input_shape=(20, 1)))\n",
    "model.add(Dense(units=1))\n",
    "model.compile(loss='mse', optimizer='adam', metrics=['mae'])\n",
    "model.summary()"
   ]
  },
  {
   "cell_type": "markdown",
   "metadata": {},
   "source": [
    "### 4) Modell anlernen"
   ]
  },
  {
   "cell_type": "code",
   "execution_count": 4,
   "metadata": {},
   "outputs": [],
   "source": [
    "early = EarlyStopping(patience=20, monitor='loss')\n",
    "check = ModelCheckpoint(filepath='sin_model_saved.h5', monitor='loss',\n",
    "                        save_best_only=True)\n",
    "history = model.fit(X, y, epochs=500, batch_size=8, \n",
    "                     verbose=False, callbacks=[early, check])"
   ]
  },
  {
   "cell_type": "markdown",
   "metadata": {},
   "source": [
    "### 5) Modell überprüfen\n",
    "a) Gespeichertes Modell landen und Schätzwerte auf Grundlage der x-Daten erzeugen"
   ]
  },
  {
   "cell_type": "code",
   "execution_count": 5,
   "metadata": {},
   "outputs": [],
   "source": [
    "from tensorflow.keras.models import load_model\n",
    "\n",
    "model = load_model('sin_model_saved.h5')\n",
    "y_pred = model.predict(X)"
   ]
  },
  {
   "cell_type": "markdown",
   "metadata": {},
   "source": [
    "b) Schätzungen im Vergleich zu Originalwerten graphisch darstellen"
   ]
  },
  {
   "cell_type": "code",
   "execution_count": 6,
   "metadata": {
    "scrolled": true
   },
   "outputs": [
    {
     "data": {
      "text/plain": [
       "[<matplotlib.lines.Line2D at 0x22da8487288>]"
      ]
     },
     "execution_count": 6,
     "metadata": {},
     "output_type": "execute_result"
    },
    {
     "data": {
      "image/png": "[encoded data removed]",
      "text/plain": [
       "<Figure size 432x288 with 1 Axes>"
      ]
     },
     "metadata": {
      "needs_background": "light"
     },
     "output_type": "display_data"
    }
   ],
   "source": [
    "import matplotlib.pyplot as plt\n",
    "plt.plot(y, label='true',  color='grey', linewidth=1)\n",
    "plt.plot(y_pred, label='pred', linestyle=':', linewidth=1)"
   ]
  }
 ],
 "metadata": {
  "kernelspec": {
   "display_name": "Python 3",
   "language": "python",
   "name": "python3"
  },
  "language_info": {
   "codemirror_mode": {
    "name": "ipython",
    "version": 3
   },
   "file_extension": ".py",
   "mimetype": "text/x-python",
   "name": "python",
   "nbconvert_exporter": "python",
   "pygments_lexer": "ipython3",
   "version": "3.7.7"
  }
 },
 "nbformat": 4,
 "nbformat_minor": 4
}
