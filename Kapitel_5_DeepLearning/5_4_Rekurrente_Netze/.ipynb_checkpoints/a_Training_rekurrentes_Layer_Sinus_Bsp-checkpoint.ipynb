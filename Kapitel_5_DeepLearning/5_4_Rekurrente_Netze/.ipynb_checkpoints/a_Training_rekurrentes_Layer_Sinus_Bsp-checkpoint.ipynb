{
 "cells": [
  {
   "cell_type": "markdown",
   "metadata": {},
   "source": [
    "## Training eines rekurrenten Layers am Beispiel der Sinus-Daten"
   ]
  },
  {
   "cell_type": "markdown",
   "metadata": {},
   "source": [
    "### 1) Daten laden"
   ]
  },
  {
   "cell_type": "code",
   "execution_count": null,
   "metadata": {},
   "outputs": [],
   "source": [
    "import pandas as pd\n",
    "from math import ceil\n",
    "\n",
    "pd.set_option('display.max_columns', 6)\n",
    "\n",
    "data_url=r'https://github.com/tplusone/hanser_ml_zeitreihen/blob/master/Daten/rnn_sinus.csv?raw=true'\n",
    "df = pd.read_csv(data_url)\n",
    "df.drop(['id'], axis=1, inplace=True)\n",
    "df.head()"
   ]
  }
 ],
 "metadata": {
  "kernelspec": {
   "display_name": "Python 3",
   "language": "python",
   "name": "python3"
  },
  "language_info": {
   "codemirror_mode": {
    "name": "ipython",
    "version": 3
   },
   "file_extension": ".py",
   "mimetype": "text/x-python",
   "name": "python",
   "nbconvert_exporter": "python",
   "pygments_lexer": "ipython3",
   "version": "3.7.7"
  }
 },
 "nbformat": 4,
 "nbformat_minor": 4
}
