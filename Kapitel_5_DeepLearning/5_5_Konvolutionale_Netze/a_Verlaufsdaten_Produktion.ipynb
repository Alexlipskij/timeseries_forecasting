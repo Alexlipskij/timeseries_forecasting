{
 "cells": [
  {
   "cell_type": "markdown",
   "metadata": {},
   "source": [
    "## Training einer konvolutionalen Layer anhand einfacher Produktionsdaten"
   ]
  },
  {
   "cell_type": "markdown",
   "metadata": {},
   "source": [
    "### 1) Daten laden"
   ]
  },
  {
   "cell_type": "code",
   "execution_count": 1,
   "metadata": {},
   "outputs": [
    {
     "data": {
      "text/html": [
       "<div>\n",
       "<style scoped>\n",
       "    .dataframe tbody tr th:only-of-type {\n",
       "        vertical-align: middle;\n",
       "    }\n",
       "\n",
       "    .dataframe tbody tr th {\n",
       "        vertical-align: top;\n",
       "    }\n",
       "\n",
       "    .dataframe thead th {\n",
       "        text-align: right;\n",
       "    }\n",
       "</style>\n",
       "<table border=\"1\" class=\"dataframe\">\n",
       "  <thead>\n",
       "    <tr style=\"text-align: right;\">\n",
       "      <th></th>\n",
       "      <th>t0</th>\n",
       "      <th>t1</th>\n",
       "      <th>t2</th>\n",
       "      <th>t3</th>\n",
       "      <th>t4</th>\n",
       "      <th>t5</th>\n",
       "      <th>t6</th>\n",
       "      <th>t7</th>\n",
       "      <th>target</th>\n",
       "    </tr>\n",
       "  </thead>\n",
       "  <tbody>\n",
       "    <tr>\n",
       "      <th>0</th>\n",
       "      <td>11.6</td>\n",
       "      <td>22.7</td>\n",
       "      <td>13.8</td>\n",
       "      <td>22.7</td>\n",
       "      <td>11.6</td>\n",
       "      <td>22.7</td>\n",
       "      <td>11.6</td>\n",
       "      <td>22.7</td>\n",
       "      <td>0</td>\n",
       "    </tr>\n",
       "    <tr>\n",
       "      <th>1</th>\n",
       "      <td>5.0</td>\n",
       "      <td>5.0</td>\n",
       "      <td>22.7</td>\n",
       "      <td>5.0</td>\n",
       "      <td>5.0</td>\n",
       "      <td>5.0</td>\n",
       "      <td>5.0</td>\n",
       "      <td>5.0</td>\n",
       "      <td>1</td>\n",
       "    </tr>\n",
       "    <tr>\n",
       "      <th>2</th>\n",
       "      <td>5.0</td>\n",
       "      <td>5.0</td>\n",
       "      <td>2.8</td>\n",
       "      <td>22.7</td>\n",
       "      <td>5.0</td>\n",
       "      <td>7.2</td>\n",
       "      <td>7.2</td>\n",
       "      <td>7.2</td>\n",
       "      <td>1</td>\n",
       "    </tr>\n",
       "    <tr>\n",
       "      <th>3</th>\n",
       "      <td>5.0</td>\n",
       "      <td>5.0</td>\n",
       "      <td>2.8</td>\n",
       "      <td>2.8</td>\n",
       "      <td>24.9</td>\n",
       "      <td>7.2</td>\n",
       "      <td>7.2</td>\n",
       "      <td>7.2</td>\n",
       "      <td>1</td>\n",
       "    </tr>\n",
       "    <tr>\n",
       "      <th>4</th>\n",
       "      <td>5.0</td>\n",
       "      <td>5.0</td>\n",
       "      <td>2.8</td>\n",
       "      <td>2.8</td>\n",
       "      <td>5.0</td>\n",
       "      <td>22.7</td>\n",
       "      <td>7.2</td>\n",
       "      <td>7.2</td>\n",
       "      <td>1</td>\n",
       "    </tr>\n",
       "  </tbody>\n",
       "</table>\n",
       "</div>"
      ],
      "text/plain": [
       "     t0    t1    t2    t3    t4    t5    t6    t7  target\n",
       "0  11.6  22.7  13.8  22.7  11.6  22.7  11.6  22.7       0\n",
       "1   5.0   5.0  22.7   5.0   5.0   5.0   5.0   5.0       1\n",
       "2   5.0   5.0   2.8  22.7   5.0   7.2   7.2   7.2       1\n",
       "3   5.0   5.0   2.8   2.8  24.9   7.2   7.2   7.2       1\n",
       "4   5.0   5.0   2.8   2.8   5.0  22.7   7.2   7.2       1"
      ]
     },
     "execution_count": 1,
     "metadata": {},
     "output_type": "execute_result"
    }
   ],
   "source": [
    "import pandas as pd\n",
    "from math import ceil\n",
    "\n",
    "pd.set_option('display.max_columns', 12)\n",
    "\n",
    "data_url=r'https://github.com/tplusone/hanser_ml_zeitreihen/blob/master/Daten/verlaufsdaten.csv?raw=true'\n",
    "df = pd.read_csv(data_url)\n",
    "df.head().round(1)"
   ]
  },
  {
   "cell_type": "markdown",
   "metadata": {},
   "source": [
    "### 2) Vorbereitung der Daten inkl. Standardisierung und Restrukturierung\n",
    "Achtung: Hier wird nicht spaltenweise standardisiert, sondern über die gesamten x-Daten!"
   ]
  },
  {
   "cell_type": "code",
   "execution_count": 2,
   "metadata": {},
   "outputs": [
    {
     "data": {
      "text/plain": [
       "((12, 8, 1), (12,))"
      ]
     },
     "execution_count": 2,
     "metadata": {},
     "output_type": "execute_result"
    }
   ],
   "source": [
    "y = df['target'].values\n",
    "X = df.drop(['target'], axis=1).values\n",
    "\n",
    "x_mean, x_std = X.mean(), X.std()\n",
    "X = (X - x_mean) / x_std\n",
    "X = X.reshape(-1, 8, 1)\n",
    "X.shape, y.shape"
   ]
  },
  {
   "cell_type": "markdown",
   "metadata": {},
   "source": [
    "### 3) Zusammenstellung des Modells"
   ]
  },
  {
   "cell_type": "code",
   "execution_count": 3,
   "metadata": {},
   "outputs": [
    {
     "name": "stdout",
     "output_type": "stream",
     "text": [
      "Model: \"cnn\"\n",
      "_________________________________________________________________\n",
      "Layer (type)                 Output Shape              Param #   \n",
      "=================================================================\n",
      "conv1d (Conv1D)              (None, 6, 1)              4         \n",
      "_________________________________________________________________\n",
      "max_pooling1d (MaxPooling1D) (None, 3, 1)              0         \n",
      "_________________________________________________________________\n",
      "flatten (Flatten)            (None, 3)                 0         \n",
      "_________________________________________________________________\n",
      "dense (Dense)                (None, 1)                 4         \n",
      "=================================================================\n",
      "Total params: 8\n",
      "Trainable params: 8\n",
      "Non-trainable params: 0\n",
      "_________________________________________________________________\n"
     ]
    }
   ],
   "source": [
    "from tensorflow.keras.models import Sequential\n",
    "from tensorflow.keras.layers import (Dense, Flatten,\n",
    "                                     Conv1D, MaxPool1D)\n",
    "\n",
    "model = Sequential(name='cnn')\n",
    "model.add(Conv1D(filters=1, kernel_size=3, \n",
    "          input_shape=(8,1), activation='relu'))\n",
    "model.add(MaxPool1D(pool_size=2))\n",
    "model.add(Flatten())\n",
    "model.add(Dense(units=1, activation='sigmoid'))\n",
    "model.compile(loss='binary_crossentropy', optimizer='sgd',\n",
    "            metrics=['accuracy'])\n",
    "model.summary()"
   ]
  },
  {
   "cell_type": "markdown",
   "metadata": {},
   "source": [
    "### 4) Training des Modells\n",
    "inkl. Evaluation"
   ]
  },
  {
   "cell_type": "code",
   "execution_count": 4,
   "metadata": {},
   "outputs": [
    {
     "name": "stdout",
     "output_type": "stream",
     "text": [
      "12/12 [==============================] - 0s 6ms/sample - loss: 0.0224 - accuracy: 1.0000\n",
      "accuracy: 1.0\n"
     ]
    }
   ],
   "source": [
    "history = model.fit(X, y, epochs=1000, batch_size=1, \n",
    "                    verbose=False)\n",
    "loss, acc = model.evaluate(X, y)\n",
    "print('accuracy: {:.3}'.format(acc))\n",
    "model.save('cnn_produktion_simple.h5')"
   ]
  },
  {
   "cell_type": "markdown",
   "metadata": {},
   "source": [
    "### 5) Betrachtung der Gewichte"
   ]
  },
  {
   "cell_type": "code",
   "execution_count": 5,
   "metadata": {},
   "outputs": [
    {
     "name": "stdout",
     "output_type": "stream",
     "text": [
      "weights, conv1:\n",
      " [[[ 1.2854996 ]]\n",
      "\n",
      " [[-3.7454994 ]]\n",
      "\n",
      " [[ 0.07211278]]]\n",
      "weights, dense:\n",
      " [[0.30993316]\n",
      " [3.0200465 ]\n",
      " [3.044641  ]]\n"
     ]
    }
   ],
   "source": [
    "from tensorflow.keras.models import load_model\n",
    "\n",
    "model = load_model('cnn_produktion_simple.h5')\n",
    "w_conv = model.get_layer(index=0).get_weights()[0]\n",
    "w_dense = model.get_layer(index=3).get_weights()[0]\n",
    "\n",
    "print('weights, conv1:\\n', w_conv)\n",
    "print('weights, dense:\\n',w_dense)"
   ]
  }
 ],
 "metadata": {
  "kernelspec": {
   "display_name": "Python 3",
   "language": "python",
   "name": "python3"
  },
  "language_info": {
   "codemirror_mode": {
    "name": "ipython",
    "version": 3
   },
   "file_extension": ".py",
   "mimetype": "text/x-python",
   "name": "python",
   "nbconvert_exporter": "python",
   "pygments_lexer": "ipython3",
   "version": "3.7.7"
  }
 },
 "nbformat": 4,
 "nbformat_minor": 4
}
