{
 "cells": [
  {
   "cell_type": "markdown",
   "metadata": {},
   "source": [
    "## Den Anlernprozess steuern: Kapitel 5.2.3\n",
    "### 1. Daten laden"
   ]
  },
  {
   "cell_type": "markdown",
   "metadata": {},
   "source": [
    "**Hinweis**: Bei den Daten handelt es sich um konstruierte Daten, die mit Hilfe der Funktion *make_classification* aus Scikit-Learn zusammengestellt wurden. Im Beispiel, das weiter unten beginnt, arbeiten wir mit den abgespeicherten Daten, die innerhalb des Buches verwendet wurden.\n",
    "\n",
    "Wer selbst Daten zusammenstellen will, kann dies mit der folgenden Syntax:"
   ]
  },
  {
   "cell_type": "code",
   "execution_count": 1,
   "metadata": {},
   "outputs": [
    {
     "data": {
      "text/html": [
       "<div>\n",
       "<style scoped>\n",
       "    .dataframe tbody tr th:only-of-type {\n",
       "        vertical-align: middle;\n",
       "    }\n",
       "\n",
       "    .dataframe tbody tr th {\n",
       "        vertical-align: top;\n",
       "    }\n",
       "\n",
       "    .dataframe thead th {\n",
       "        text-align: right;\n",
       "    }\n",
       "</style>\n",
       "<table border=\"1\" class=\"dataframe\">\n",
       "  <thead>\n",
       "    <tr style=\"text-align: right;\">\n",
       "      <th></th>\n",
       "      <th>0</th>\n",
       "      <th>1</th>\n",
       "      <th>2</th>\n",
       "      <th>3</th>\n",
       "      <th>4</th>\n",
       "      <th>5</th>\n",
       "      <th>6</th>\n",
       "      <th>7</th>\n",
       "      <th>8</th>\n",
       "      <th>9</th>\n",
       "      <th>target</th>\n",
       "    </tr>\n",
       "  </thead>\n",
       "  <tbody>\n",
       "    <tr>\n",
       "      <th>0</th>\n",
       "      <td>-3.579097</td>\n",
       "      <td>-0.418446</td>\n",
       "      <td>-0.590195</td>\n",
       "      <td>-1.398272</td>\n",
       "      <td>0.891033</td>\n",
       "      <td>1.902224</td>\n",
       "      <td>1.409482</td>\n",
       "      <td>0.333788</td>\n",
       "      <td>1.144441</td>\n",
       "      <td>1.866713</td>\n",
       "      <td>0</td>\n",
       "    </tr>\n",
       "    <tr>\n",
       "      <th>1</th>\n",
       "      <td>-0.361784</td>\n",
       "      <td>1.530435</td>\n",
       "      <td>0.985891</td>\n",
       "      <td>0.634146</td>\n",
       "      <td>-2.386211</td>\n",
       "      <td>2.109656</td>\n",
       "      <td>-2.348815</td>\n",
       "      <td>-1.445031</td>\n",
       "      <td>-0.548551</td>\n",
       "      <td>0.467385</td>\n",
       "      <td>0</td>\n",
       "    </tr>\n",
       "    <tr>\n",
       "      <th>2</th>\n",
       "      <td>0.788791</td>\n",
       "      <td>0.357868</td>\n",
       "      <td>1.494238</td>\n",
       "      <td>0.115044</td>\n",
       "      <td>0.333652</td>\n",
       "      <td>-0.896189</td>\n",
       "      <td>0.025605</td>\n",
       "      <td>1.652885</td>\n",
       "      <td>-0.717035</td>\n",
       "      <td>-1.535372</td>\n",
       "      <td>2</td>\n",
       "    </tr>\n",
       "    <tr>\n",
       "      <th>3</th>\n",
       "      <td>2.673712</td>\n",
       "      <td>2.120477</td>\n",
       "      <td>1.740581</td>\n",
       "      <td>0.247870</td>\n",
       "      <td>1.026426</td>\n",
       "      <td>4.745017</td>\n",
       "      <td>0.938582</td>\n",
       "      <td>-0.438538</td>\n",
       "      <td>-0.467037</td>\n",
       "      <td>0.253605</td>\n",
       "      <td>1</td>\n",
       "    </tr>\n",
       "    <tr>\n",
       "      <th>4</th>\n",
       "      <td>-3.281587</td>\n",
       "      <td>-0.101949</td>\n",
       "      <td>-2.240474</td>\n",
       "      <td>-1.038818</td>\n",
       "      <td>-0.748701</td>\n",
       "      <td>0.215294</td>\n",
       "      <td>2.203428</td>\n",
       "      <td>1.479930</td>\n",
       "      <td>1.321502</td>\n",
       "      <td>-0.507287</td>\n",
       "      <td>0</td>\n",
       "    </tr>\n",
       "  </tbody>\n",
       "</table>\n",
       "</div>"
      ],
      "text/plain": [
       "          0         1         2         3         4         5         6  \\\n",
       "0 -3.579097 -0.418446 -0.590195 -1.398272  0.891033  1.902224  1.409482   \n",
       "1 -0.361784  1.530435  0.985891  0.634146 -2.386211  2.109656 -2.348815   \n",
       "2  0.788791  0.357868  1.494238  0.115044  0.333652 -0.896189  0.025605   \n",
       "3  2.673712  2.120477  1.740581  0.247870  1.026426  4.745017  0.938582   \n",
       "4 -3.281587 -0.101949 -2.240474 -1.038818 -0.748701  0.215294  2.203428   \n",
       "\n",
       "          7         8         9  target  \n",
       "0  0.333788  1.144441  1.866713       0  \n",
       "1 -1.445031 -0.548551  0.467385       0  \n",
       "2  1.652885 -0.717035 -1.535372       2  \n",
       "3 -0.438538 -0.467037  0.253605       1  \n",
       "4  1.479930  1.321502 -0.507287       0  "
      ]
     },
     "execution_count": 1,
     "metadata": {},
     "output_type": "execute_result"
    }
   ],
   "source": [
    "from sklearn.datasets import make_classification\n",
    "import pandas as pd\n",
    "import numpy as np\n",
    "\n",
    "### Produktion der Daten\n",
    "X, y = make_classification(n_samples=2000, n_features=10, n_classes=3,\n",
    "                             n_informative=8, n_redundant=0, \n",
    "                             n_clusters_per_class=1, \n",
    "                             class_sep=0.65)\n",
    "\n",
    "### Umwandeln in Data-Frame (falls gewünscht)\n",
    "df = pd.DataFrame(X)  \n",
    "df = df.join(pd.DataFrame(np.array(y).reshape(-1,1), columns=['target']))\n",
    "df.head()"
   ]
  },
  {
   "cell_type": "markdown",
   "metadata": {},
   "source": [
    "**Hier werden die Daten aus der Buchvorlage geladen:**"
   ]
  },
  {
   "cell_type": "code",
   "execution_count": 2,
   "metadata": {},
   "outputs": [
    {
     "data": {
      "text/html": [
       "<div>\n",
       "<style scoped>\n",
       "    .dataframe tbody tr th:only-of-type {\n",
       "        vertical-align: middle;\n",
       "    }\n",
       "\n",
       "    .dataframe tbody tr th {\n",
       "        vertical-align: top;\n",
       "    }\n",
       "\n",
       "    .dataframe thead th {\n",
       "        text-align: right;\n",
       "    }\n",
       "</style>\n",
       "<table border=\"1\" class=\"dataframe\">\n",
       "  <thead>\n",
       "    <tr style=\"text-align: right;\">\n",
       "      <th></th>\n",
       "      <th>0</th>\n",
       "      <th>1</th>\n",
       "      <th>2</th>\n",
       "      <th>3</th>\n",
       "      <th>4</th>\n",
       "      <th>5</th>\n",
       "      <th>6</th>\n",
       "      <th>7</th>\n",
       "      <th>8</th>\n",
       "      <th>9</th>\n",
       "      <th>target</th>\n",
       "    </tr>\n",
       "  </thead>\n",
       "  <tbody>\n",
       "    <tr>\n",
       "      <th>0</th>\n",
       "      <td>-0.280709</td>\n",
       "      <td>-0.059600</td>\n",
       "      <td>0.903313</td>\n",
       "      <td>-1.316667</td>\n",
       "      <td>-0.211657</td>\n",
       "      <td>1.661014</td>\n",
       "      <td>0.614386</td>\n",
       "      <td>-1.661741</td>\n",
       "      <td>-1.236767</td>\n",
       "      <td>1.673179</td>\n",
       "      <td>1</td>\n",
       "    </tr>\n",
       "    <tr>\n",
       "      <th>1</th>\n",
       "      <td>-0.991065</td>\n",
       "      <td>-0.457066</td>\n",
       "      <td>0.717418</td>\n",
       "      <td>-0.205517</td>\n",
       "      <td>0.051233</td>\n",
       "      <td>-0.441401</td>\n",
       "      <td>1.145146</td>\n",
       "      <td>0.962219</td>\n",
       "      <td>-0.604699</td>\n",
       "      <td>2.657998</td>\n",
       "      <td>2</td>\n",
       "    </tr>\n",
       "    <tr>\n",
       "      <th>2</th>\n",
       "      <td>-0.274415</td>\n",
       "      <td>-4.143297</td>\n",
       "      <td>0.976277</td>\n",
       "      <td>3.525734</td>\n",
       "      <td>-0.615639</td>\n",
       "      <td>-1.275351</td>\n",
       "      <td>-1.976680</td>\n",
       "      <td>-4.283560</td>\n",
       "      <td>-0.102496</td>\n",
       "      <td>-4.236518</td>\n",
       "      <td>0</td>\n",
       "    </tr>\n",
       "    <tr>\n",
       "      <th>3</th>\n",
       "      <td>-0.758435</td>\n",
       "      <td>-0.034742</td>\n",
       "      <td>0.211872</td>\n",
       "      <td>-1.471143</td>\n",
       "      <td>-0.841671</td>\n",
       "      <td>-1.463690</td>\n",
       "      <td>3.937600</td>\n",
       "      <td>-0.662916</td>\n",
       "      <td>-0.965079</td>\n",
       "      <td>2.131738</td>\n",
       "      <td>1</td>\n",
       "    </tr>\n",
       "    <tr>\n",
       "      <th>4</th>\n",
       "      <td>1.331444</td>\n",
       "      <td>-0.210657</td>\n",
       "      <td>2.110881</td>\n",
       "      <td>0.613726</td>\n",
       "      <td>0.200788</td>\n",
       "      <td>-3.717483</td>\n",
       "      <td>1.880523</td>\n",
       "      <td>-5.730783</td>\n",
       "      <td>1.998385</td>\n",
       "      <td>-3.572608</td>\n",
       "      <td>0</td>\n",
       "    </tr>\n",
       "  </tbody>\n",
       "</table>\n",
       "</div>"
      ],
      "text/plain": [
       "          0         1         2         3         4         5         6  \\\n",
       "0 -0.280709 -0.059600  0.903313 -1.316667 -0.211657  1.661014  0.614386   \n",
       "1 -0.991065 -0.457066  0.717418 -0.205517  0.051233 -0.441401  1.145146   \n",
       "2 -0.274415 -4.143297  0.976277  3.525734 -0.615639 -1.275351 -1.976680   \n",
       "3 -0.758435 -0.034742  0.211872 -1.471143 -0.841671 -1.463690  3.937600   \n",
       "4  1.331444 -0.210657  2.110881  0.613726  0.200788 -3.717483  1.880523   \n",
       "\n",
       "          7         8         9  target  \n",
       "0 -1.661741 -1.236767  1.673179       1  \n",
       "1  0.962219 -0.604699  2.657998       2  \n",
       "2 -4.283560 -0.102496 -4.236518       0  \n",
       "3 -0.662916 -0.965079  2.131738       1  \n",
       "4 -5.730783  1.998385 -3.572608       0  "
      ]
     },
     "execution_count": 2,
     "metadata": {},
     "output_type": "execute_result"
    }
   ],
   "source": [
    "import pandas as pd\n",
    "\n",
    "data_url=r'https://github.com/tplusone/hanser_ml_zeitreihen/blob/master/Daten/anlernprozess_steuern.csv?raw=true'\n",
    "df = pd.read_csv(data_url)\n",
    "df.head()"
   ]
  },
  {
   "cell_type": "markdown",
   "metadata": {},
   "source": [
    "### 2. Daten selektieren und Train-Test-Split durchführen"
   ]
  },
  {
   "cell_type": "code",
   "execution_count": 3,
   "metadata": {},
   "outputs": [
    {
     "data": {
      "text/plain": [
       "((1400, 10), (600, 10), (1400,), (600,))"
      ]
     },
     "execution_count": 3,
     "metadata": {},
     "output_type": "execute_result"
    }
   ],
   "source": [
    "from sklearn.model_selection import train_test_split\n",
    "\n",
    "X = df.drop(['target'], axis=1)\n",
    "y = df['target']\n",
    "X_train, X_test, y_train, y_test = train_test_split(X, y, test_size=.3, random_state=56)\n",
    "X_train.shape, X_test.shape, y_train.shape, y_test.shape"
   ]
  },
  {
   "cell_type": "markdown",
   "metadata": {},
   "source": [
    "### 3. Modell aufsetzen"
   ]
  },
  {
   "cell_type": "code",
   "execution_count": 4,
   "metadata": {},
   "outputs": [
    {
     "name": "stdout",
     "output_type": "stream",
     "text": [
      "Model: \"sequential\"\n",
      "_________________________________________________________________\n",
      "Layer (type)                 Output Shape              Param #   \n",
      "=================================================================\n",
      "dense (Dense)                (None, 20)                220       \n",
      "_________________________________________________________________\n",
      "dense_1 (Dense)              (None, 20)                420       \n",
      "_________________________________________________________________\n",
      "dense_2 (Dense)              (None, 3)                 63        \n",
      "=================================================================\n",
      "Total params: 703\n",
      "Trainable params: 703\n",
      "Non-trainable params: 0\n",
      "_________________________________________________________________\n"
     ]
    }
   ],
   "source": [
    "from tensorflow.keras.models import Sequential\n",
    "from tensorflow.keras.layers import Dense\n",
    "\n",
    "model = Sequential()\n",
    "model.add(Dense(units=20, input_shape=(10,), activation='relu'))\n",
    "model.add(Dense(units=20, activation='relu'))\n",
    "model.add(Dense(units=3, activation='softmax'))\n",
    "model.compile(loss='sparse_categorical_crossentropy', \n",
    "            optimizer='rmsprop', metrics=['accuracy'])\n",
    "model.summary()"
   ]
  },
  {
   "cell_type": "markdown",
   "metadata": {},
   "source": [
    "### 4. Callbacks zusammenstellen"
   ]
  },
  {
   "cell_type": "code",
   "execution_count": 5,
   "metadata": {},
   "outputs": [],
   "source": [
    "from tensorflow.keras.callbacks import (EarlyStopping, \n",
    "                                        ModelCheckpoint)\n",
    "from tensorflow.keras.models import load_model \n",
    "\n",
    "stopping = EarlyStopping(monitor='val_loss', patience=5)\n",
    "checkpoint = ModelCheckpoint(filepath='keras_test_model.h5', \n",
    "                            monitor='val_loss', \n",
    "                            save_best_only=True)"
   ]
  },
  {
   "cell_type": "markdown",
   "metadata": {},
   "source": [
    "### 5. Training des Modells unter Anwendung der Callbacks "
   ]
  },
  {
   "cell_type": "code",
   "execution_count": 6,
   "metadata": {},
   "outputs": [],
   "source": [
    "epochs = 200\n",
    "batch_size = 32\n",
    "history = model.fit(X_train, y_train, epochs=epochs, \n",
    "                     batch_size=batch_size,\n",
    "                     validation_data=(X_test, y_test), \n",
    "                     callbacks=[stopping, checkpoint],\n",
    "                     verbose=False)\n",
    "saved_model = load_model('keras_test_model.h5')"
   ]
  },
  {
   "cell_type": "markdown",
   "metadata": {},
   "source": [
    "### 6. History abfragen und Anlernprozess graphisch darstellen"
   ]
  },
  {
   "cell_type": "code",
   "execution_count": 7,
   "metadata": {},
   "outputs": [
    {
     "data": {
      "text/plain": [
       "<matplotlib.legend.Legend at 0x1ccd2eb4348>"
      ]
     },
     "execution_count": 7,
     "metadata": {},
     "output_type": "execute_result"
    },
    {
     "data": {
      "image/png": "[encoded data removed]",
      "text/plain": [
       "<Figure size 432x288 with 1 Axes>"
      ]
     },
     "metadata": {
      "needs_background": "light"
     },
     "output_type": "display_data"
    }
   ],
   "source": [
    "import matplotlib.pyplot as plt\n",
    "\n",
    "loss = history.history['loss']\n",
    "accuracy = history.history['accuracy']\n",
    "val_loss = history.history['val_loss']\n",
    "val_accuracy = history.history['val_accuracy']\n",
    "\n",
    "epochs_axis = range(1, len(loss)+1)\n",
    "\n",
    "plt.plot(epochs_axis, loss, label='train loss')\n",
    "plt.plot(epochs_axis, val_loss, label='test loss')\n",
    "plt.xlabel('epochs')\n",
    "plt.ylabel('loss (sparse cross entropy)')\n",
    "plt.legend()"
   ]
  },
  {
   "cell_type": "markdown",
   "metadata": {},
   "source": [
    "**Hinweis**: Obwohl beim Anlernen 200 Epochen angegeben wurden, wurde der Anlernprozess schon nach 37 Epochen beendet. Das ist die Wirkung der *EarlyStopping*-Klasse, die wir angewiesen haben, das Anlernen abzubrechen wenn bei fünf aufeinanderfolgenden Epochen keine Verbesserung mehr auf den Testdaten erfolgt.\n",
    "Die Callack-Klasse *ModelCheckpoint* bewirkt dagegen, dass im Hintergrund nur das beste Modell abgespeichert wird. Bei der Definition von \"bestes Modell\" orientieren wir uns dabei an den Testdaten (vgl. Parameter *monitor*). Dieses Modell wurde unter dem in *filepath* angegebenen Namen abgespeichert. Wenn wir es zur Produktion von Schätzwerten verwenden wollen, können wir es mit der Funktion *load_model* wieder deserialisieren."
   ]
  }
 ],
 "metadata": {
  "kernelspec": {
   "display_name": "Python 3",
   "language": "python",
   "name": "python3"
  },
  "language_info": {
   "codemirror_mode": {
    "name": "ipython",
    "version": 3
   },
   "file_extension": ".py",
   "mimetype": "text/x-python",
   "name": "python",
   "nbconvert_exporter": "python",
   "pygments_lexer": "ipython3",
   "version": "3.7.7"
  }
 },
 "nbformat": 4,
 "nbformat_minor": 4
}
