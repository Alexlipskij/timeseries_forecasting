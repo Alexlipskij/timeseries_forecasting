{
 "cells": [
  {
   "cell_type": "markdown",
   "metadata": {},
   "source": [
    "## Den Anlernprozess steuern: Kapitel 5.2.3\n",
    "### 1. Daten laden"
   ]
  },
  {
   "cell_type": "markdown",
   "metadata": {},
   "source": [
    "**Hinweis**: Bei den Daten handelt es sich um konstruierte Daten, die mit Hilfe der Funktion *make_classification* aus Scikit-Learn zusammengestellt wurden. Im Beispiel, das weiter unten beginnt, arbeiten wir mit den abgespeicherten Daten, die innerhalb des Buches verwendet wurden.\n",
    "\n",
    "Wer selbst Daten zusammenstellen will, kann dies mit der folgenden Syntax:"
   ]
  },
  {
   "cell_type": "code",
   "execution_count": null,
   "metadata": {},
   "outputs": [],
   "source": [
    "from sklearn.datasets import make_classification\n",
    "\n",
    "### Produktion der Daten\n",
    "X, y = make_classification(n_samples=2000, n_features=10, n_classes=3,\n",
    "                             n_informative=8, n_redundant=0, n_clusters_per_class=1, \n",
    "                             class_sep=0.65, random_state=43)\n",
    "\n",
    "### Umwandeln in Data-Frame (falls gewünscht)\n",
    "df = pd.DataFrame(X)  \n",
    "df = df.join(pd.DataFrame(np.array(y).reshape(-1,1), columns=['target']))"
   ]
  },
  {
   "cell_type": "markdown",
   "metadata": {},
   "source": [
    "**Hier werden die Daten aus der Buchvorlage geladen:**"
   ]
  },
  {
   "cell_type": "code",
   "execution_count": 1,
   "metadata": {},
   "outputs": [
    {
     "data": {
      "text/html": [
       "<div>\n",
       "<style scoped>\n",
       "    .dataframe tbody tr th:only-of-type {\n",
       "        vertical-align: middle;\n",
       "    }\n",
       "\n",
       "    .dataframe tbody tr th {\n",
       "        vertical-align: top;\n",
       "    }\n",
       "\n",
       "    .dataframe thead th {\n",
       "        text-align: right;\n",
       "    }\n",
       "</style>\n",
       "<table border=\"1\" class=\"dataframe\">\n",
       "  <thead>\n",
       "    <tr style=\"text-align: right;\">\n",
       "      <th></th>\n",
       "      <th>0</th>\n",
       "      <th>1</th>\n",
       "      <th>2</th>\n",
       "      <th>...</th>\n",
       "      <th>8</th>\n",
       "      <th>9</th>\n",
       "      <th>target</th>\n",
       "    </tr>\n",
       "  </thead>\n",
       "  <tbody>\n",
       "    <tr>\n",
       "      <th>0</th>\n",
       "      <td>-0.280709</td>\n",
       "      <td>-0.059600</td>\n",
       "      <td>0.903313</td>\n",
       "      <td>...</td>\n",
       "      <td>-1.236767</td>\n",
       "      <td>1.673179</td>\n",
       "      <td>1</td>\n",
       "    </tr>\n",
       "    <tr>\n",
       "      <th>1</th>\n",
       "      <td>-0.991065</td>\n",
       "      <td>-0.457066</td>\n",
       "      <td>0.717418</td>\n",
       "      <td>...</td>\n",
       "      <td>-0.604699</td>\n",
       "      <td>2.657998</td>\n",
       "      <td>2</td>\n",
       "    </tr>\n",
       "    <tr>\n",
       "      <th>2</th>\n",
       "      <td>-0.274415</td>\n",
       "      <td>-4.143297</td>\n",
       "      <td>0.976277</td>\n",
       "      <td>...</td>\n",
       "      <td>-0.102496</td>\n",
       "      <td>-4.236518</td>\n",
       "      <td>0</td>\n",
       "    </tr>\n",
       "    <tr>\n",
       "      <th>3</th>\n",
       "      <td>-0.758435</td>\n",
       "      <td>-0.034742</td>\n",
       "      <td>0.211872</td>\n",
       "      <td>...</td>\n",
       "      <td>-0.965079</td>\n",
       "      <td>2.131738</td>\n",
       "      <td>1</td>\n",
       "    </tr>\n",
       "    <tr>\n",
       "      <th>4</th>\n",
       "      <td>1.331444</td>\n",
       "      <td>-0.210657</td>\n",
       "      <td>2.110881</td>\n",
       "      <td>...</td>\n",
       "      <td>1.998385</td>\n",
       "      <td>-3.572608</td>\n",
       "      <td>0</td>\n",
       "    </tr>\n",
       "  </tbody>\n",
       "</table>\n",
       "<p>5 rows × 11 columns</p>\n",
       "</div>"
      ],
      "text/plain": [
       "          0         1         2  ...         8         9  target\n",
       "0 -0.280709 -0.059600  0.903313  ... -1.236767  1.673179       1\n",
       "1 -0.991065 -0.457066  0.717418  ... -0.604699  2.657998       2\n",
       "2 -0.274415 -4.143297  0.976277  ... -0.102496 -4.236518       0\n",
       "3 -0.758435 -0.034742  0.211872  ... -0.965079  2.131738       1\n",
       "4  1.331444 -0.210657  2.110881  ...  1.998385 -3.572608       0\n",
       "\n",
       "[5 rows x 11 columns]"
      ]
     },
     "execution_count": 1,
     "metadata": {},
     "output_type": "execute_result"
    }
   ],
   "source": [
    "import pandas as pd\n",
    "from math import ceil\n",
    "\n",
    "pd.set_option('display.max_columns', 6)\n",
    "\n",
    "data_url=r'https://github.com/tplusone/hanser_ml_zeitreihen/blob/master/Daten/anlernprozess_steuern.csv?raw=true'\n",
    "df = pd.read_csv(data_url)\n",
    "df.head()"
   ]
  },
  {
   "cell_type": "markdown",
   "metadata": {},
   "source": [
    "### 2. Daten selektieren und Train-Test-Split durchführen"
   ]
  },
  {
   "cell_type": "code",
   "execution_count": 2,
   "metadata": {},
   "outputs": [
    {
     "data": {
      "text/plain": [
       "((1400, 10), (600, 10), (1400,), (600,))"
      ]
     },
     "execution_count": 2,
     "metadata": {},
     "output_type": "execute_result"
    }
   ],
   "source": [
    "from sklearn.model_selection import train_test_split\n",
    "\n",
    "X = df.drop(['target'], axis=1)\n",
    "y = df['target']\n",
    "X_train, X_test, y_train, y_test = train_test_split(X, y, test_size=.3, random_state=56)\n",
    "X_train.shape, X_test.shape, y_train.shape, y_test.shape"
   ]
  },
  {
   "cell_type": "markdown",
   "metadata": {},
   "source": [
    "### 3. Modell aufsetzen"
   ]
  },
  {
   "cell_type": "code",
   "execution_count": 3,
   "metadata": {},
   "outputs": [
    {
     "name": "stdout",
     "output_type": "stream",
     "text": [
      "Model: \"sequential\"\n",
      "_________________________________________________________________\n",
      "Layer (type)                 Output Shape              Param #   \n",
      "=================================================================\n",
      "dense (Dense)                (None, 20)                220       \n",
      "_________________________________________________________________\n",
      "dense_1 (Dense)              (None, 20)                420       \n",
      "_________________________________________________________________\n",
      "dense_2 (Dense)              (None, 3)                 63        \n",
      "=================================================================\n",
      "Total params: 703\n",
      "Trainable params: 703\n",
      "Non-trainable params: 0\n",
      "_________________________________________________________________\n"
     ]
    }
   ],
   "source": [
    "from tensorflow.keras.models import Sequential\n",
    "from tensorflow.keras.layers import Dense\n",
    "\n",
    "model = Sequential()\n",
    "model.add(Dense(units=20, input_shape=(10,), activation='relu'))\n",
    "model.add(Dense(units=20, activation='relu'))\n",
    "model.add(Dense(units=3, activation='softmax'))\n",
    "model.compile(loss='sparse_categorical_crossentropy', \n",
    "            optimizer='rmsprop', metrics=['accuracy'])\n",
    "model.summary()"
   ]
  },
  {
   "cell_type": "markdown",
   "metadata": {},
   "source": [
    "### 4. Callbacks zusammenstellen"
   ]
  },
  {
   "cell_type": "code",
   "execution_count": 4,
   "metadata": {},
   "outputs": [],
   "source": [
    "from tensorflow.keras.callbacks import (EarlyStopping, \n",
    "                                        ModelCheckpoint)\n",
    "from tensorflow.keras.models import load_model \n",
    "\n",
    "stopping = EarlyStopping(monitor='val_loss', patience=5)\n",
    "checkpoint = ModelCheckpoint(filepath='keras_test_model.h5', \n",
    "                            monitor='val_loss', \n",
    "                            save_best_only=True)"
   ]
  },
  {
   "cell_type": "markdown",
   "metadata": {},
   "source": [
    "### 5. Training des Modells unter Anwendung der Callbacks "
   ]
  },
  {
   "cell_type": "code",
   "execution_count": 5,
   "metadata": {},
   "outputs": [],
   "source": [
    "epochs = 200\n",
    "batch_size = 32\n",
    "history = model.fit(X_train, y_train, epochs=epochs, \n",
    "                     batch_size=batch_size,\n",
    "                     validation_data=(X_test, y_test), \n",
    "                     callbacks=[stopping, checkpoint],\n",
    "                     verbose=False)\n",
    "saved_model = load_model('keras_test_model.h5')"
   ]
  },
  {
   "cell_type": "markdown",
   "metadata": {},
   "source": [
    "### 6. History abfragen und Anlernprozess graphisch darstellen"
   ]
  },
  {
   "cell_type": "code",
   "execution_count": 6,
   "metadata": {},
   "outputs": [
    {
     "data": {
      "text/plain": [
       "<matplotlib.legend.Legend at 0x1dd78fdaf08>"
      ]
     },
     "execution_count": 6,
     "metadata": {},
     "output_type": "execute_result"
    },
    {
     "data": {
      "image/png": "[encoded data removed]",
      "text/plain": [
       "<Figure size 432x288 with 1 Axes>"
      ]
     },
     "metadata": {
      "needs_background": "light"
     },
     "output_type": "display_data"
    }
   ],
   "source": [
    "import matplotlib.pyplot as plt\n",
    "\n",
    "loss = history.history['loss']\n",
    "accuracy = history.history['accuracy']\n",
    "val_loss = history.history['val_loss']\n",
    "val_accuracy = history.history['val_accuracy']\n",
    "\n",
    "epochs_axis = range(1, len(loss)+1)\n",
    "\n",
    "plt.plot(epochs_axis, loss, label='train loss')\n",
    "plt.plot(epochs_axis, val_loss, label='test loss')\n",
    "plt.xlabel('epochs')\n",
    "plt.ylabel('loss (sparse cross entropy)')\n",
    "plt.legend()"
   ]
  },
  {
   "cell_type": "markdown",
   "metadata": {},
   "source": [
    "**Hinweis**: Man erkennt, dass obwohl beim Anlernen 200 Epochen angegeben wurden, der Anlernprozess schon nach 54 Epochen beendet wurde. Das ist die Wirkung der *EarlyStopping*-Klasse, die wir angewiesen haben, das Anlernen abzubrechen wenn bei fünf aufeinanderfolgenden Epochen keine Verbesserung mehr auf den Testdaten erfolgt.\n",
    "Die Callack-Klasse *ModelCheckpoint* bewirkt dagegen, dass im Hintergrund nur das beste Modell abgespeichert wird. Bei der Definition von \"bestes Modell\" orientieren wir uns dabei wieder an den Test- bzw. Validierungsdaten (vgl. Parameter monitor). Dieses Modell wurde unter dem in *filepath* angegebenen Namen abgespeichert. Wenn wir es zur Produktion von Schätzwerten verwenden wollen, können wir es einfach mit der Funktion *load_model* wieder deserialisieren."
   ]
  }
 ],
 "metadata": {
  "kernelspec": {
   "display_name": "Python 3",
   "language": "python",
   "name": "python3"
  },
  "language_info": {
   "codemirror_mode": {
    "name": "ipython",
    "version": 3
   },
   "file_extension": ".py",
   "mimetype": "text/x-python",
   "name": "python",
   "nbconvert_exporter": "python",
   "pygments_lexer": "ipython3",
   "version": "3.7.7"
  }
 },
 "nbformat": 4,
 "nbformat_minor": 4
}
