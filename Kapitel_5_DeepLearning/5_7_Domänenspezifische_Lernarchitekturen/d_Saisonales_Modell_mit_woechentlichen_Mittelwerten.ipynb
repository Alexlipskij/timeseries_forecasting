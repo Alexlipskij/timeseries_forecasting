{
 "cells": [
  {
   "cell_type": "markdown",
   "metadata": {},
   "source": [
    "## Neuronales Netz zur Schätzung der Temperatur\n",
    "Es werden zwei verschiedene Datentypen verwendet:\n",
    "Verarbeitung der Zeitreihe (6 Messwerte), Verarbeitung der Mittelwerte über die Wochen\n",
    "### 1) Laden der Daten"
   ]
  },
  {
   "cell_type": "code",
   "execution_count": 1,
   "metadata": {},
   "outputs": [
    {
     "data": {
      "text/html": [
       "<div>\n",
       "<style scoped>\n",
       "    .dataframe tbody tr th:only-of-type {\n",
       "        vertical-align: middle;\n",
       "    }\n",
       "\n",
       "    .dataframe tbody tr th {\n",
       "        vertical-align: top;\n",
       "    }\n",
       "\n",
       "    .dataframe thead th {\n",
       "        text-align: right;\n",
       "    }\n",
       "</style>\n",
       "<table border=\"1\" class=\"dataframe\">\n",
       "  <thead>\n",
       "    <tr style=\"text-align: right;\">\n",
       "      <th></th>\n",
       "      <th>p (mbar)</th>\n",
       "      <th>T (degC)</th>\n",
       "      <th>Tpot (K)</th>\n",
       "      <th>...</th>\n",
       "      <th>wv (m/s)</th>\n",
       "      <th>max. wv (m/s)</th>\n",
       "      <th>wd (deg)</th>\n",
       "    </tr>\n",
       "    <tr>\n",
       "      <th>Date Time</th>\n",
       "      <th></th>\n",
       "      <th></th>\n",
       "      <th></th>\n",
       "      <th></th>\n",
       "      <th></th>\n",
       "      <th></th>\n",
       "      <th></th>\n",
       "    </tr>\n",
       "  </thead>\n",
       "  <tbody>\n",
       "    <tr>\n",
       "      <th>2009-01-01 00:00:00</th>\n",
       "      <td>996.528000</td>\n",
       "      <td>-8.304000</td>\n",
       "      <td>265.118000</td>\n",
       "      <td>...</td>\n",
       "      <td>0.520000</td>\n",
       "      <td>1.002000</td>\n",
       "      <td>174.460000</td>\n",
       "    </tr>\n",
       "    <tr>\n",
       "      <th>2009-01-01 01:00:00</th>\n",
       "      <td>996.525000</td>\n",
       "      <td>-8.065000</td>\n",
       "      <td>265.361667</td>\n",
       "      <td>...</td>\n",
       "      <td>0.316667</td>\n",
       "      <td>0.711667</td>\n",
       "      <td>172.416667</td>\n",
       "    </tr>\n",
       "    <tr>\n",
       "      <th>2009-01-01 02:00:00</th>\n",
       "      <td>996.745000</td>\n",
       "      <td>-8.763333</td>\n",
       "      <td>264.645000</td>\n",
       "      <td>...</td>\n",
       "      <td>0.248333</td>\n",
       "      <td>0.606667</td>\n",
       "      <td>196.816667</td>\n",
       "    </tr>\n",
       "    <tr>\n",
       "      <th>2009-01-01 03:00:00</th>\n",
       "      <td>996.986667</td>\n",
       "      <td>-8.896667</td>\n",
       "      <td>264.491667</td>\n",
       "      <td>...</td>\n",
       "      <td>0.176667</td>\n",
       "      <td>0.606667</td>\n",
       "      <td>157.083333</td>\n",
       "    </tr>\n",
       "    <tr>\n",
       "      <th>2009-01-01 04:00:00</th>\n",
       "      <td>997.158333</td>\n",
       "      <td>-9.348333</td>\n",
       "      <td>264.026667</td>\n",
       "      <td>...</td>\n",
       "      <td>0.290000</td>\n",
       "      <td>0.670000</td>\n",
       "      <td>150.093333</td>\n",
       "    </tr>\n",
       "  </tbody>\n",
       "</table>\n",
       "<p>5 rows × 14 columns</p>\n",
       "</div>"
      ],
      "text/plain": [
       "                       p (mbar)  T (degC)    Tpot (K)  ...  wv (m/s)  \\\n",
       "Date Time                                              ...             \n",
       "2009-01-01 00:00:00  996.528000 -8.304000  265.118000  ...  0.520000   \n",
       "2009-01-01 01:00:00  996.525000 -8.065000  265.361667  ...  0.316667   \n",
       "2009-01-01 02:00:00  996.745000 -8.763333  264.645000  ...  0.248333   \n",
       "2009-01-01 03:00:00  996.986667 -8.896667  264.491667  ...  0.176667   \n",
       "2009-01-01 04:00:00  997.158333 -9.348333  264.026667  ...  0.290000   \n",
       "\n",
       "                     max. wv (m/s)    wd (deg)  \n",
       "Date Time                                       \n",
       "2009-01-01 00:00:00       1.002000  174.460000  \n",
       "2009-01-01 01:00:00       0.711667  172.416667  \n",
       "2009-01-01 02:00:00       0.606667  196.816667  \n",
       "2009-01-01 03:00:00       0.606667  157.083333  \n",
       "2009-01-01 04:00:00       0.670000  150.093333  \n",
       "\n",
       "[5 rows x 14 columns]"
      ]
     },
     "execution_count": 1,
     "metadata": {},
     "output_type": "execute_result"
    }
   ],
   "source": [
    "import pandas as pd\n",
    "from math import ceil\n",
    "\n",
    "pd.set_option('display.max_columns', 6)\n",
    "\n",
    "data_url=r'https://github.com/tplusone/hanser_ml_zeitreihen/blob/master/Daten/jena_climate_complete_hourly.csv?raw=true'\n",
    "df = pd.read_csv(data_url)\n",
    "df['Date Time'] = pd.to_datetime(df['Date Time'])\n",
    "df = df.set_index('Date Time')\n",
    "df.head()"
   ]
  },
  {
   "cell_type": "markdown",
   "metadata": {},
   "source": [
    "### 2) X/y-Daten extrahieren"
   ]
  },
  {
   "cell_type": "code",
   "execution_count": 2,
   "metadata": {},
   "outputs": [
    {
     "data": {
      "text/plain": [
       "((70129, 14), (70129, 1))"
      ]
     },
     "execution_count": 2,
     "metadata": {},
     "output_type": "execute_result"
    }
   ],
   "source": [
    "X = df\n",
    "y = df[['T (degC)']]\n",
    "X.shape, y.shape"
   ]
  },
  {
   "cell_type": "markdown",
   "metadata": {},
   "source": [
    "### 3) Trainings/Test-Daten separieren"
   ]
  },
  {
   "cell_type": "code",
   "execution_count": 3,
   "metadata": {},
   "outputs": [
    {
     "data": {
      "text/plain": [
       "((56104, 14), (14025, 14))"
      ]
     },
     "execution_count": 3,
     "metadata": {},
     "output_type": "execute_result"
    }
   ],
   "source": [
    "## 2. Schritt: Train/Test-Split\n",
    "train_end = ceil(len(X) * 0.8)\n",
    "X_train = X.iloc[:train_end]\n",
    "y_train = y.iloc[:train_end]\n",
    "\n",
    "X_test = X.iloc[train_end:]\n",
    "y_test = y.iloc[train_end:]\n",
    "\n",
    "X_train.shape, X_test.shape"
   ]
  },
  {
   "cell_type": "markdown",
   "metadata": {},
   "source": [
    "### 4) Datums-Index herauslösen und speichern und Spaltenbezeichnungen speichern"
   ]
  },
  {
   "cell_type": "code",
   "execution_count": 4,
   "metadata": {},
   "outputs": [],
   "source": [
    "time_train = X_train.index\n",
    "time_test = X_test.index\n",
    "cols_train = X_train.columns"
   ]
  },
  {
   "cell_type": "markdown",
   "metadata": {},
   "source": [
    "### 5) Standardisieren von X- und y-Daten"
   ]
  },
  {
   "cell_type": "code",
   "execution_count": 5,
   "metadata": {},
   "outputs": [],
   "source": [
    "from sklearn.preprocessing import StandardScaler\n",
    "\n",
    "scaler_x = StandardScaler()\n",
    "scaler_x.fit(X_train)\n",
    "X_train_sd = scaler_x.transform(X_train)\n",
    "X_test_sd = scaler_x.transform(X_test)\n",
    "\n",
    "scaler_y = StandardScaler()\n",
    "scaler_y.fit(y_train)\n",
    "y_train = scaler_y.transform(y_train)\n",
    "y_test = scaler_y.transform(y_test)"
   ]
  },
  {
   "cell_type": "markdown",
   "metadata": {},
   "source": [
    "### 6) Erzeugung de Mittelwertstabelle über die Kalenderwochen"
   ]
  },
  {
   "cell_type": "code",
   "execution_count": 6,
   "metadata": {},
   "outputs": [
    {
     "data": {
      "text/html": [
       "<div>\n",
       "<style scoped>\n",
       "    .dataframe tbody tr th:only-of-type {\n",
       "        vertical-align: middle;\n",
       "    }\n",
       "\n",
       "    .dataframe tbody tr th {\n",
       "        vertical-align: top;\n",
       "    }\n",
       "\n",
       "    .dataframe thead th {\n",
       "        text-align: right;\n",
       "    }\n",
       "</style>\n",
       "<table border=\"1\" class=\"dataframe\">\n",
       "  <thead>\n",
       "    <tr style=\"text-align: right;\">\n",
       "      <th></th>\n",
       "      <th>p (mbar)</th>\n",
       "      <th>T (degC)</th>\n",
       "      <th>Tpot (K)</th>\n",
       "      <th>...</th>\n",
       "      <th>wv (m/s)</th>\n",
       "      <th>max. wv (m/s)</th>\n",
       "      <th>wd (deg)</th>\n",
       "    </tr>\n",
       "    <tr>\n",
       "      <th>Date Time</th>\n",
       "      <th></th>\n",
       "      <th></th>\n",
       "      <th></th>\n",
       "      <th></th>\n",
       "      <th></th>\n",
       "      <th></th>\n",
       "      <th></th>\n",
       "    </tr>\n",
       "  </thead>\n",
       "  <tbody>\n",
       "    <tr>\n",
       "      <th>1</th>\n",
       "      <td>0.116</td>\n",
       "      <td>-0.236</td>\n",
       "      <td>-0.244</td>\n",
       "      <td>...</td>\n",
       "      <td>0.052</td>\n",
       "      <td>0.044</td>\n",
       "      <td>-0.042</td>\n",
       "    </tr>\n",
       "    <tr>\n",
       "      <th>2</th>\n",
       "      <td>0.260</td>\n",
       "      <td>-0.030</td>\n",
       "      <td>-0.051</td>\n",
       "      <td>...</td>\n",
       "      <td>-0.055</td>\n",
       "      <td>-0.070</td>\n",
       "      <td>-0.043</td>\n",
       "    </tr>\n",
       "    <tr>\n",
       "      <th>3</th>\n",
       "      <td>0.018</td>\n",
       "      <td>-1.052</td>\n",
       "      <td>-1.048</td>\n",
       "      <td>...</td>\n",
       "      <td>-0.003</td>\n",
       "      <td>-0.040</td>\n",
       "      <td>-0.098</td>\n",
       "    </tr>\n",
       "    <tr>\n",
       "      <th>4</th>\n",
       "      <td>-0.374</td>\n",
       "      <td>-1.360</td>\n",
       "      <td>-1.324</td>\n",
       "      <td>...</td>\n",
       "      <td>0.077</td>\n",
       "      <td>-0.015</td>\n",
       "      <td>-0.494</td>\n",
       "    </tr>\n",
       "    <tr>\n",
       "      <th>5</th>\n",
       "      <td>-0.178</td>\n",
       "      <td>-0.811</td>\n",
       "      <td>-0.792</td>\n",
       "      <td>...</td>\n",
       "      <td>0.209</td>\n",
       "      <td>0.183</td>\n",
       "      <td>-0.191</td>\n",
       "    </tr>\n",
       "  </tbody>\n",
       "</table>\n",
       "<p>5 rows × 14 columns</p>\n",
       "</div>"
      ],
      "text/plain": [
       "           p (mbar)  T (degC)  Tpot (K)  ...  wv (m/s)  max. wv (m/s)  \\\n",
       "Date Time                                ...                            \n",
       "1             0.116    -0.236    -0.244  ...     0.052          0.044   \n",
       "2             0.260    -0.030    -0.051  ...    -0.055         -0.070   \n",
       "3             0.018    -1.052    -1.048  ...    -0.003         -0.040   \n",
       "4            -0.374    -1.360    -1.324  ...     0.077         -0.015   \n",
       "5            -0.178    -0.811    -0.792  ...     0.209          0.183   \n",
       "\n",
       "           wd (deg)  \n",
       "Date Time            \n",
       "1            -0.042  \n",
       "2            -0.043  \n",
       "3            -0.098  \n",
       "4            -0.494  \n",
       "5            -0.191  \n",
       "\n",
       "[5 rows x 14 columns]"
      ]
     },
     "execution_count": 6,
     "metadata": {},
     "output_type": "execute_result"
    }
   ],
   "source": [
    "week_means = pd.DataFrame(X_train_sd, \n",
    "                    index=time_train,\n",
    "                    columns=cols_train) \n",
    "\n",
    "week_means = week_means \\\n",
    "                .groupby(week_means.index.week) \\\n",
    "                [week_means.columns].mean()\n",
    "week_means.head().round(3)"
   ]
  },
  {
   "cell_type": "markdown",
   "metadata": {},
   "source": [
    "### 7) Data Generator"
   ]
  },
  {
   "cell_type": "code",
   "execution_count": 7,
   "metadata": {},
   "outputs": [
    {
     "name": "stdout",
     "output_type": "stream",
     "text": [
      "(1, 6, 14) (1, 14) (1, 1)\n"
     ]
    }
   ],
   "source": [
    "import numpy as np\n",
    "import random\n",
    "\n",
    "def data_generator( X: np.array, y: np.array, \n",
    "                    mean_tab: pd.DataFrame, y_index: pd.Index, \n",
    "                    window=144, horizon=24, season=24, \n",
    "                    batch_size=1, epochs=10):\n",
    "    for epoch in range(epochs):\n",
    "        X_s, X_m, y_ = [], [], []\n",
    "        batch_counter = 0\n",
    "        last_val = len(X) - (window + horizon)\n",
    "        index_range = list(range(last_val))\n",
    "        random.shuffle(index_range)\n",
    "        for idx in index_range:\n",
    "            season_range = range(window+idx-1, idx-1, -season)\n",
    "            X_s.append([X[i] for i in season_range])\n",
    "            y_date = y_index[idx+window+horizon]\n",
    "            y_mean = mean_tab.loc[y_date.week]\n",
    "            X_m.append(y_mean.values)\n",
    "            y_.append(y[idx+window+horizon])\n",
    "            batch_counter += 1\n",
    "            if (batch_counter == batch_size or \n",
    "                index_range[-1] == idx):\n",
    "                yield ([np.array(X_s), np.array(X_m)], \n",
    "                        np.array(y_))\n",
    "                X_s, X_m, y_ = [], [], []\n",
    "                batch_counter = 0\n",
    "\n",
    "\n",
    "test_gen = data_generator(X_train_sd, y_train, \n",
    "                mean_tab=week_means, y_index=time_train)\n",
    "(x_, xs_), y_ = next(test_gen)\n",
    "print(x_.shape, xs_.shape, y_.shape)"
   ]
  },
  {
   "cell_type": "markdown",
   "metadata": {},
   "source": [
    "### 8) Aufbau des Modells"
   ]
  },
  {
   "cell_type": "code",
   "execution_count": 8,
   "metadata": {},
   "outputs": [
    {
     "name": "stdout",
     "output_type": "stream",
     "text": [
      "Model: \"model\"\n",
      "__________________________________________________________________________________________________\n",
      "Layer (type)                    Output Shape         Param #     Connected to                     \n",
      "==================================================================================================\n",
      "in_mn (InputLayer)              [(None, 14)]         0                                            \n",
      "__________________________________________________________________________________________________\n",
      "in_sn (InputLayer)              [(None, 6, 14)]      0                                            \n",
      "__________________________________________________________________________________________________\n",
      "dense (Dense)                   (None, 14)           210         in_mn[0][0]                      \n",
      "__________________________________________________________________________________________________\n",
      "sn_gru (GRU)                    (None, 32)           4608        in_sn[0][0]                      \n",
      "__________________________________________________________________________________________________\n",
      "dropout (Dropout)               (None, 14)           0           dense[0][0]                      \n",
      "__________________________________________________________________________________________________\n",
      "concatenate (Concatenate)       (None, 46)           0           sn_gru[0][0]                     \n",
      "                                                                 dropout[0][0]                    \n",
      "__________________________________________________________________________________________________\n",
      "dense_1 (Dense)                 (None, 1)            47          concatenate[0][0]                \n",
      "==================================================================================================\n",
      "Total params: 4,865\n",
      "Trainable params: 4,865\n",
      "Non-trainable params: 0\n",
      "__________________________________________________________________________________________________\n"
     ]
    }
   ],
   "source": [
    "from tensorflow.keras.models import Model, Sequential\n",
    "from tensorflow.keras.layers import (Flatten,  \n",
    "                                    Input, Dense, Dropout,                                     GRU, Bidirectional,\n",
    "                                    concatenate, GRU)\n",
    "from tensorflow.keras.regularizers import l2\n",
    "\n",
    "batch_size = 128\n",
    "epochs = 50\n",
    "window = 144\n",
    "horizon = 24\n",
    "indicators = 14\n",
    "num_season = 6\n",
    "\n",
    "reg = l2(0.0001)\n",
    "\n",
    "input_sn = Input(shape=(num_season, indicators), name='in_sn')\n",
    "input_mn = Input(shape=(indicators), name='in_mn') \n",
    "\n",
    "sn = GRU(units=32, dropout=0.3, go_backwards=True,\n",
    "         kernel_regularizer=reg, name='sn_gru')(input_sn)\n",
    "mn = Dense(units=14, activation='tanh', \n",
    "        kernel_regularizer=reg)(input_mn)\n",
    "mn = Dropout(0.2)(mn)\n",
    "comp = concatenate([sn, mn], axis=-1)\n",
    "comp = Dense(units=1, kernel_regularizer=reg)(comp)\n",
    "\n",
    "model = Model([input_sn, input_mn], comp)\n",
    "model.compile(loss='mse', optimizer='adam', metrics=['mae'])\n",
    "model.summary()"
   ]
  },
  {
   "cell_type": "markdown",
   "metadata": {},
   "source": [
    "### 9) Callbacks definieren"
   ]
  },
  {
   "cell_type": "code",
   "execution_count": 9,
   "metadata": {},
   "outputs": [],
   "source": [
    "from tensorflow.keras.callbacks import ModelCheckpoint, EarlyStopping\n",
    "\n",
    "early = EarlyStopping(monitor='val_loss', patience=10)\n",
    "check = ModelCheckpoint(filepath='climate_model_seasonal_means.h5', \n",
    "                        monitor='val_loss', save_best_only=True)"
   ]
  },
  {
   "cell_type": "markdown",
   "metadata": {},
   "source": [
    "### 10) Generatoren zum Anlernen organsisieren"
   ]
  },
  {
   "cell_type": "code",
   "execution_count": 10,
   "metadata": {},
   "outputs": [],
   "source": [
    "steps_train = ceil(len(X_train-(window+horizon))/batch_size)\n",
    "steps_test = ceil(len(X_test-(window+horizon))/batch_size)\n",
    "\n",
    "gen_train = data_generator(X_train_sd, y_train, \n",
    "                        mean_tab=week_means, \n",
    "                        y_index=time_train, \n",
    "                        batch_size=batch_size,\n",
    "                        epochs=epochs)\n",
    "gen_test = data_generator(X_test_sd, y_test, \n",
    "                        mean_tab=week_means, \n",
    "                        y_index=time_test,\n",
    "                        batch_size=batch_size,\n",
    "                        epochs=epochs)"
   ]
  },
  {
   "cell_type": "markdown",
   "metadata": {},
   "source": [
    "### 11) Modell anlernen"
   ]
  },
  {
   "cell_type": "code",
   "execution_count": 11,
   "metadata": {},
   "outputs": [
    {
     "name": "stdout",
     "output_type": "stream",
     "text": [
      "WARNING:tensorflow:sample_weight modes were coerced from\n",
      "  ...\n",
      "    to  \n",
      "  ['...']\n",
      "WARNING:tensorflow:sample_weight modes were coerced from\n",
      "  ...\n",
      "    to  \n",
      "  ['...']\n",
      "Train for 439 steps, validate for 110 steps\n",
      "Epoch 1/50\n",
      "439/439 [==============================] - 19s 43ms/step - loss: 0.4258 - mae: 0.4829 - val_loss: 0.3687 - val_mae: 0.4616\n",
      "Epoch 2/50\n",
      "439/439 [==============================] - 18s 41ms/step - loss: 0.3861 - mae: 0.4590 - val_loss: 0.3587 - val_mae: 0.4563\n",
      "Epoch 3/50\n",
      "439/439 [==============================] - 16s 37ms/step - loss: 0.3741 - mae: 0.4525 - val_loss: 0.3689 - val_mae: 0.4650\n",
      "Epoch 4/50\n",
      "439/439 [==============================] - 20s 45ms/step - loss: 0.3676 - mae: 0.4470 - val_loss: 0.3576 - val_mae: 0.4522\n",
      "Epoch 5/50\n",
      "439/439 [==============================] - 18s 41ms/step - loss: 0.3586 - mae: 0.4417 - val_loss: 0.3656 - val_mae: 0.4609\n",
      "Epoch 6/50\n",
      "439/439 [==============================] - 17s 39ms/step - loss: 0.3542 - mae: 0.4393 - val_loss: 0.3653 - val_mae: 0.4583\n",
      "Epoch 7/50\n",
      "439/439 [==============================] - 18s 40ms/step - loss: 0.3485 - mae: 0.4361 - val_loss: 0.3719 - val_mae: 0.4653\n",
      "Epoch 8/50\n",
      "439/439 [==============================] - 17s 39ms/step - loss: 0.3443 - mae: 0.4327 - val_loss: 0.3625 - val_mae: 0.4562\n",
      "Epoch 9/50\n",
      "439/439 [==============================] - 17s 38ms/step - loss: 0.3391 - mae: 0.4300 - val_loss: 0.3695 - val_mae: 0.4660\n",
      "Epoch 10/50\n",
      "439/439 [==============================] - 17s 39ms/step - loss: 0.3374 - mae: 0.4282 - val_loss: 0.3726 - val_mae: 0.4647\n",
      "Epoch 11/50\n",
      "439/439 [==============================] - 18s 40ms/step - loss: 0.3318 - mae: 0.4246 - val_loss: 0.3734 - val_mae: 0.4629\n",
      "Epoch 12/50\n",
      "439/439 [==============================] - 17s 39ms/step - loss: 0.3284 - mae: 0.4221 - val_loss: 0.3722 - val_mae: 0.4665\n",
      "Epoch 13/50\n",
      "439/439 [==============================] - 18s 40ms/step - loss: 0.3270 - mae: 0.4206 - val_loss: 0.3697 - val_mae: 0.4600\n",
      "Epoch 14/50\n",
      "439/439 [==============================] - 17s 39ms/step - loss: 0.3167 - mae: 0.4154 - val_loss: 0.3757 - val_mae: 0.4651\n"
     ]
    }
   ],
   "source": [
    "history = model.fit(gen_train, epochs=epochs, \n",
    "            steps_per_epoch=steps_train, \n",
    "            validation_data=(gen_test), \n",
    "            validation_steps=steps_test,\n",
    "            callbacks=[early, check], verbose=1)"
   ]
  },
  {
   "cell_type": "markdown",
   "metadata": {},
   "source": [
    "### 12) Funktion zur Berechnung von y_true, y_pred & simple predicitions über Testdaten"
   ]
  },
  {
   "cell_type": "code",
   "execution_count": 12,
   "metadata": {},
   "outputs": [],
   "source": [
    "def predictions_vs_true(X_pred, y_true, mean_tab, y_index, \n",
    "                        model, scaler, window=144, horizon=24, \n",
    "                        season=24, num_pred=24*14):\n",
    "    X_m_temp = []\n",
    "    X_s_temp = []\n",
    "    y_temp = []\n",
    "    y_temp_simple = []\n",
    "    if num_pred=='complete':\n",
    "        num_pred = len(X_pred)-(window+horizon)\n",
    "    for idx in range(num_pred):\n",
    "        season_range = range(window+idx, idx, -season)\n",
    "        X_s_temp.append([X_pred[i] for i in season_range])\n",
    "        y_date = y_index[idx+window+horizon]\n",
    "        y_mean = mean_tab.loc[y_date.week]\n",
    "        X_m_temp.append(y_mean.values)\n",
    "        y_idx = y_true[idx+window+horizon]\n",
    "        y_temp.append(y_idx)\n",
    "        y_temp_simple.append(y_true[idx+window])\n",
    "    X_m_temp = np.array(X_m_temp)\n",
    "    X_s_temp = np.array(X_s_temp)\n",
    "    y_pred = model.predict([X_s_temp, X_m_temp])\n",
    "    y_pred = scaler.inverse_transform(y_pred)\n",
    "    y_temp = scaler.inverse_transform(y_temp)\n",
    "    y_temp_simple = scaler.inverse_transform(y_temp_simple)\n",
    "    return y_temp, y_pred, y_temp_simple"
   ]
  },
  {
   "cell_type": "markdown",
   "metadata": {},
   "source": [
    "### 13) Mittlerer absolute Fehler für Modellschätzungen und naives Schätzverfahren erzeugen"
   ]
  },
  {
   "cell_type": "code",
   "execution_count": 13,
   "metadata": {},
   "outputs": [
    {
     "name": "stdout",
     "output_type": "stream",
     "text": [
      "mae, predictions: 3.811684467660458\n",
      "mae, simple pred: 4.209516369584565\n"
     ]
    }
   ],
   "source": [
    "from tensorflow.keras.models import load_model\n",
    "from sklearn.metrics import mean_absolute_error\n",
    "\n",
    "model = load_model('climate_model_seasonal_means.h5')\n",
    "y_true, y_pred, y_temp_simple = predictions_vs_true(X_test_sd, \n",
    "                                    y_test, \n",
    "                                    mean_tab=week_means, \n",
    "                                    y_index=time_test,\n",
    "                                    model=model, \n",
    "                                    scaler=scaler_y,\n",
    "                                    num_pred='complete')\n",
    "\n",
    "print('mae, predictions:', mean_absolute_error(y_true, y_pred))\n",
    "print('mae, simple pred:', mean_absolute_error(y_true, y_temp_simple))"
   ]
  }
 ],
 "metadata": {
  "kernelspec": {
   "display_name": "Python 3",
   "language": "python",
   "name": "python3"
  },
  "language_info": {
   "codemirror_mode": {
    "name": "ipython",
    "version": 3
   },
   "file_extension": ".py",
   "mimetype": "text/x-python",
   "name": "python",
   "nbconvert_exporter": "python",
   "pygments_lexer": "ipython3",
   "version": "3.7.7"
  }
 },
 "nbformat": 4,
 "nbformat_minor": 4
}
