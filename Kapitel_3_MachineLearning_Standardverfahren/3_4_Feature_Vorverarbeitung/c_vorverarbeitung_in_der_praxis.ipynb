{
 "cells": [
  {
   "cell_type": "markdown",
   "metadata": {},
   "source": [
    "### Vorverarbeitung in der Praxis (Kapitel 3.4.4.)"
   ]
  },
  {
   "cell_type": "markdown",
   "metadata": {},
   "source": [
    "#### 1) Daten laden"
   ]
  },
  {
   "cell_type": "code",
   "execution_count": 1,
   "metadata": {},
   "outputs": [
    {
     "data": {
      "text/html": [
       "<div>\n",
       "<style scoped>\n",
       "    .dataframe tbody tr th:only-of-type {\n",
       "        vertical-align: middle;\n",
       "    }\n",
       "\n",
       "    .dataframe tbody tr th {\n",
       "        vertical-align: top;\n",
       "    }\n",
       "\n",
       "    .dataframe thead th {\n",
       "        text-align: right;\n",
       "    }\n",
       "</style>\n",
       "<table border=\"1\" class=\"dataframe\">\n",
       "  <thead>\n",
       "    <tr style=\"text-align: right;\">\n",
       "      <th></th>\n",
       "      <th>age</th>\n",
       "      <th>sex</th>\n",
       "      <th>bmi</th>\n",
       "      <th>...</th>\n",
       "      <th>smoker</th>\n",
       "      <th>region</th>\n",
       "      <th>charges</th>\n",
       "    </tr>\n",
       "  </thead>\n",
       "  <tbody>\n",
       "    <tr>\n",
       "      <th>0</th>\n",
       "      <td>19</td>\n",
       "      <td>female</td>\n",
       "      <td>27.900</td>\n",
       "      <td>...</td>\n",
       "      <td>yes</td>\n",
       "      <td>southwest</td>\n",
       "      <td>16884.92400</td>\n",
       "    </tr>\n",
       "    <tr>\n",
       "      <th>1</th>\n",
       "      <td>18</td>\n",
       "      <td>male</td>\n",
       "      <td>33.770</td>\n",
       "      <td>...</td>\n",
       "      <td>no</td>\n",
       "      <td>southeast</td>\n",
       "      <td>1725.55230</td>\n",
       "    </tr>\n",
       "    <tr>\n",
       "      <th>2</th>\n",
       "      <td>28</td>\n",
       "      <td>male</td>\n",
       "      <td>33.000</td>\n",
       "      <td>...</td>\n",
       "      <td>no</td>\n",
       "      <td>southeast</td>\n",
       "      <td>4449.46200</td>\n",
       "    </tr>\n",
       "    <tr>\n",
       "      <th>3</th>\n",
       "      <td>33</td>\n",
       "      <td>male</td>\n",
       "      <td>22.705</td>\n",
       "      <td>...</td>\n",
       "      <td>no</td>\n",
       "      <td>northwest</td>\n",
       "      <td>21984.47061</td>\n",
       "    </tr>\n",
       "    <tr>\n",
       "      <th>4</th>\n",
       "      <td>32</td>\n",
       "      <td>male</td>\n",
       "      <td>28.880</td>\n",
       "      <td>...</td>\n",
       "      <td>no</td>\n",
       "      <td>northwest</td>\n",
       "      <td>3866.85520</td>\n",
       "    </tr>\n",
       "  </tbody>\n",
       "</table>\n",
       "<p>5 rows × 7 columns</p>\n",
       "</div>"
      ],
      "text/plain": [
       "   age     sex     bmi  ...  smoker     region      charges\n",
       "0   19  female  27.900  ...     yes  southwest  16884.92400\n",
       "1   18    male  33.770  ...      no  southeast   1725.55230\n",
       "2   28    male  33.000  ...      no  southeast   4449.46200\n",
       "3   33    male  22.705  ...      no  northwest  21984.47061\n",
       "4   32    male  28.880  ...      no  northwest   3866.85520\n",
       "\n",
       "[5 rows x 7 columns]"
      ]
     },
     "execution_count": 1,
     "metadata": {},
     "output_type": "execute_result"
    }
   ],
   "source": [
    "import pandas as pd\n",
    "import numpy as np\n",
    "np.set_printoptions(precision=3, suppress=True)\n",
    "\n",
    "pd.set_option('display.max_columns', 6)\n",
    "\n",
    "data_url=r'https://github.com/tplusone/hanser_ml_zeitreihen/blob/master/Daten/insurance.csv?raw=true'\n",
    "df = pd.read_csv(data_url)\n",
    "df.head()"
   ]
  },
  {
   "cell_type": "markdown",
   "metadata": {},
   "source": [
    "### Teil 1 - Anlernprozess durchführen"
   ]
  },
  {
   "cell_type": "markdown",
   "metadata": {},
   "source": [
    "#### a) Trainings- und Testdaten separieren"
   ]
  },
  {
   "cell_type": "code",
   "execution_count": 2,
   "metadata": {},
   "outputs": [
    {
     "data": {
      "text/plain": [
       "((1070, 6), (268, 6), (1070,), (268,))"
      ]
     },
     "execution_count": 2,
     "metadata": {},
     "output_type": "execute_result"
    }
   ],
   "source": [
    "from sklearn.model_selection import train_test_split\n",
    "X = df[['age', 'sex', 'bmi', 'children', 'smoker', 'region']]\n",
    "y = df['charges']\n",
    "X_train, X_test, y_train, y_test = train_test_split(X, y, \n",
    "                                   test_size=0.2, random_state=11)\n",
    "X_train.shape, X_test.shape, y_train.shape, y_test.shape"
   ]
  },
  {
   "cell_type": "markdown",
   "metadata": {},
   "source": [
    "#### b) Kategoriale Variablen aus Trainingsdaten ziehen, mit dem OneHotEncoder anlernen und transformieren"
   ]
  },
  {
   "cell_type": "code",
   "execution_count": 3,
   "metadata": {},
   "outputs": [
    {
     "data": {
      "text/plain": [
       "(1070, 8)"
      ]
     },
     "execution_count": 3,
     "metadata": {},
     "output_type": "execute_result"
    }
   ],
   "source": [
    "from sklearn.preprocessing import OneHotEncoder\n",
    "X_train_ohe = X_train[['sex', 'smoker', 'region']]\n",
    "ohe = OneHotEncoder(sparse=False)\n",
    "ohe.fit(X_train_ohe)\n",
    "X_train_ohe = ohe.transform(X_train_ohe)\n",
    "X_train_ohe.shape"
   ]
  },
  {
   "cell_type": "markdown",
   "metadata": {},
   "source": [
    "#### c) Numerische Variablen aus Trainingsdaten extrahieren, den Standardisierer anlernen, die Daten transformieren"
   ]
  },
  {
   "cell_type": "code",
   "execution_count": 4,
   "metadata": {},
   "outputs": [
    {
     "data": {
      "text/plain": [
       "(1070, 3)"
      ]
     },
     "execution_count": 4,
     "metadata": {},
     "output_type": "execute_result"
    }
   ],
   "source": [
    "from sklearn.preprocessing import StandardScaler\n",
    "X_train_std = X_train[['age', 'bmi', 'children']]\n",
    "scaler = StandardScaler()\n",
    "scaler.fit(X_train_std)\n",
    "X_train_std = scaler.transform(X_train_std)\n",
    "X_train_std.shape"
   ]
  },
  {
   "cell_type": "markdown",
   "metadata": {},
   "source": [
    "#### d) Die beiden separierten Arrays wieder zusammenführen, um sie der fit-Methode des Regressors zum Anlernen zu übergeben"
   ]
  },
  {
   "cell_type": "code",
   "execution_count": 5,
   "metadata": {},
   "outputs": [
    {
     "data": {
      "text/plain": [
       "(1070, 11)"
      ]
     },
     "execution_count": 5,
     "metadata": {},
     "output_type": "execute_result"
    }
   ],
   "source": [
    "import numpy as np\n",
    "X_train_compl = np.concatenate([X_train_ohe, X_train_std], axis=1)\n",
    "X_train_compl.shape"
   ]
  },
  {
   "cell_type": "markdown",
   "metadata": {},
   "source": [
    "#### e) Den angelernten OneHotEncoder und den angelernten Standardisierer abspeichern"
   ]
  },
  {
   "cell_type": "code",
   "execution_count": 6,
   "metadata": {},
   "outputs": [
    {
     "data": {
      "text/plain": [
       "['scaler.pkl']"
      ]
     },
     "execution_count": 6,
     "metadata": {},
     "output_type": "execute_result"
    }
   ],
   "source": [
    "import joblib\n",
    "joblib.dump(ohe, 'ohe.pkl')\n",
    "joblib.dump(scaler, 'scaler.pkl')"
   ]
  },
  {
   "cell_type": "markdown",
   "metadata": {},
   "source": [
    "#### Modell mit vorbereiteten Daten anlernen und angelerntes Modell abspeichern"
   ]
  },
  {
   "cell_type": "code",
   "execution_count": 7,
   "metadata": {},
   "outputs": [
    {
     "data": {
      "text/plain": [
       "['model.pkl']"
      ]
     },
     "execution_count": 7,
     "metadata": {},
     "output_type": "execute_result"
    }
   ],
   "source": [
    "from sklearn.linear_model import LinearRegression\n",
    "model = LinearRegression()\n",
    "model.fit(X_train_compl, y_train)\n",
    "joblib.dump(model, 'model.pkl')"
   ]
  },
  {
   "cell_type": "markdown",
   "metadata": {},
   "source": [
    "### Teil II: Objektorientierter Ansatz"
   ]
  },
  {
   "cell_type": "markdown",
   "metadata": {},
   "source": [
    "#### a) Klasse erzeugen, die die Vorverarbeitung und den Schätzprozess übernimmt"
   ]
  },
  {
   "cell_type": "code",
   "execution_count": 8,
   "metadata": {},
   "outputs": [],
   "source": [
    "import joblib\n",
    "import numpy as np\n",
    "from sklearn.metrics import mean_absolute_error, r2_score\n",
    "\n",
    "class PredictInsurance():\n",
    "    \n",
    "    def __init__(self, ohe: str, scaler: str, model: str,\n",
    "                ohe_cols=['sex', 'smoker', 'region'],\n",
    "                scale_cols=['age', 'bmi', 'children']):\n",
    "        self.ohe = self.__load_file(ohe)\n",
    "        self.scaler = self.__load_file(scaler)\n",
    "        self.model = self.__load_file(model)\n",
    "        self.ohe_cols = ohe_cols\n",
    "        self.scale_cols = scale_cols\n",
    "\n",
    "    def predict(self, X_pred: pd.DataFrame) -> np.array:\n",
    "        X_compl = self.__preprocess(X_pred)\n",
    "        return self.model.predict(X_compl)\n",
    "\n",
    "    def evaluate(self, X_pred: pd.DataFrame, y_true: pd.Series) -> float:\n",
    "        y_pred = self.predict(X_pred)\n",
    "        return (mean_absolute_error(y_true, y_pred),\n",
    "                    r2_score(y_true, y_pred))\n",
    "\n",
    "    def __load_file(self, file):\n",
    "        return joblib.load(file)\n",
    "    \n",
    "    def __preprocess(self, X_pred):\n",
    "        X_ohe = self.__ohe(X_pred[self.ohe_cols])\n",
    "        X_std = self.__scale(X_pred[self.scale_cols])\n",
    "        return np.concatenate([X_ohe, X_std], axis=1)\n",
    "\n",
    "    def __ohe(self, X_ohe):\n",
    "        return self.ohe.transform(X_ohe)\n",
    "\n",
    "    def __scale(self, X_std):\n",
    "        return self.scaler.transform(X_std)"
   ]
  },
  {
   "cell_type": "markdown",
   "metadata": {},
   "source": [
    "#### 4) Evaluation durchführen"
   ]
  },
  {
   "cell_type": "code",
   "execution_count": 9,
   "metadata": {},
   "outputs": [
    {
     "name": "stdout",
     "output_type": "stream",
     "text": [
      "mae: 3804.198, r2: 0.800\n"
     ]
    }
   ],
   "source": [
    "predictor = PredictInsurance( ohe='ohe.pkl', \n",
    "                              scaler='scaler.pkl',\n",
    "                              model='model.pkl')\n",
    "mae, r_square = predictor.evaluate(X_test, y_test)\n",
    "print('mae: {:.3f}, r2: {:.3f}'.format(mae, r_square))"
   ]
  },
  {
   "cell_type": "markdown",
   "metadata": {},
   "source": [
    "#### 5) Schätzung durchführen (Beispieldatensatz)"
   ]
  },
  {
   "cell_type": "code",
   "execution_count": 10,
   "metadata": {},
   "outputs": [
    {
     "name": "stdout",
     "output_type": "stream",
     "text": [
      "prediction (X_pred): 5407.016\n"
     ]
    }
   ],
   "source": [
    "X_pred = pd.DataFrame([[35, 'female', 25.77, 1, 'no', 'southeast']],\n",
    "   columns=['age', 'sex', 'bmi', 'children', 'smoker', 'region'])\n",
    "y_pred = predictor.predict(X_pred)\n",
    "print('prediction (X_pred): {:.3f}'.format(y_pred[0]))"
   ]
  }
 ],
 "metadata": {
  "kernelspec": {
   "display_name": "Python 3",
   "language": "python",
   "name": "python3"
  },
  "language_info": {
   "codemirror_mode": {
    "name": "ipython",
    "version": 3
   },
   "file_extension": ".py",
   "mimetype": "text/x-python",
   "name": "python",
   "nbconvert_exporter": "python",
   "pygments_lexer": "ipython3",
   "version": "3.7.7"
  }
 },
 "nbformat": 4,
 "nbformat_minor": 4
}
