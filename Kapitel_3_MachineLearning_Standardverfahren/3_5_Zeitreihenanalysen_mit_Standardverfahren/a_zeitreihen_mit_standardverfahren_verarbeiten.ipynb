{
 "cells": [
  {
   "cell_type": "markdown",
   "metadata": {},
   "source": [
    "### Zeitreihen mit Standard-ML-Verfahren verarbeiten: Fahrradausleihen, SF (Kapitel 3.5.1)\n",
    "#### 1) Daten laden und Datumsindex einstellen"
   ]
  },
  {
   "cell_type": "code",
   "execution_count": 1,
   "metadata": {},
   "outputs": [
    {
     "data": {
      "text/html": [
       "<div>\n",
       "<style scoped>\n",
       "    .dataframe tbody tr th:only-of-type {\n",
       "        vertical-align: middle;\n",
       "    }\n",
       "\n",
       "    .dataframe tbody tr th {\n",
       "        vertical-align: top;\n",
       "    }\n",
       "\n",
       "    .dataframe thead th {\n",
       "        text-align: right;\n",
       "    }\n",
       "</style>\n",
       "<table border=\"1\" class=\"dataframe\">\n",
       "  <thead>\n",
       "    <tr style=\"text-align: right;\">\n",
       "      <th></th>\n",
       "      <th>number_trips</th>\n",
       "      <th>duration</th>\n",
       "      <th>max_temperature_f</th>\n",
       "      <th>mean_temperature_f</th>\n",
       "      <th>min_temperature_f</th>\n",
       "      <th>max_dew_point_f</th>\n",
       "      <th>mean_dew_point_f</th>\n",
       "      <th>min_dew_point_f</th>\n",
       "      <th>max_humidity</th>\n",
       "      <th>mean_humidity</th>\n",
       "      <th>...</th>\n",
       "      <th>mean_visibility_miles</th>\n",
       "      <th>min_visibility_miles</th>\n",
       "      <th>max_wind_Speed_mph</th>\n",
       "      <th>mean_wind_speed_mph</th>\n",
       "      <th>max_gust_speed_mph</th>\n",
       "      <th>precipitation_inches</th>\n",
       "      <th>cloud_cover</th>\n",
       "      <th>events</th>\n",
       "      <th>wind_dir_degrees</th>\n",
       "      <th>zip_code</th>\n",
       "    </tr>\n",
       "    <tr>\n",
       "      <th>start_date</th>\n",
       "      <th></th>\n",
       "      <th></th>\n",
       "      <th></th>\n",
       "      <th></th>\n",
       "      <th></th>\n",
       "      <th></th>\n",
       "      <th></th>\n",
       "      <th></th>\n",
       "      <th></th>\n",
       "      <th></th>\n",
       "      <th></th>\n",
       "      <th></th>\n",
       "      <th></th>\n",
       "      <th></th>\n",
       "      <th></th>\n",
       "      <th></th>\n",
       "      <th></th>\n",
       "      <th></th>\n",
       "      <th></th>\n",
       "      <th></th>\n",
       "      <th></th>\n",
       "    </tr>\n",
       "  </thead>\n",
       "  <tbody>\n",
       "    <tr>\n",
       "      <th>2013-08-29 09:00:00</th>\n",
       "      <td>12</td>\n",
       "      <td>1022.500000</td>\n",
       "      <td>74.0</td>\n",
       "      <td>68.0</td>\n",
       "      <td>61.0</td>\n",
       "      <td>61.0</td>\n",
       "      <td>58.0</td>\n",
       "      <td>56.0</td>\n",
       "      <td>93.0</td>\n",
       "      <td>75.0</td>\n",
       "      <td>...</td>\n",
       "      <td>10.0</td>\n",
       "      <td>10.0</td>\n",
       "      <td>23.0</td>\n",
       "      <td>11.0</td>\n",
       "      <td>28.0</td>\n",
       "      <td>0</td>\n",
       "      <td>4.0</td>\n",
       "      <td>NaN</td>\n",
       "      <td>286.0</td>\n",
       "      <td>94107</td>\n",
       "    </tr>\n",
       "    <tr>\n",
       "      <th>2013-08-29 10:00:00</th>\n",
       "      <td>14</td>\n",
       "      <td>1677.857143</td>\n",
       "      <td>74.0</td>\n",
       "      <td>68.0</td>\n",
       "      <td>61.0</td>\n",
       "      <td>61.0</td>\n",
       "      <td>58.0</td>\n",
       "      <td>56.0</td>\n",
       "      <td>93.0</td>\n",
       "      <td>75.0</td>\n",
       "      <td>...</td>\n",
       "      <td>10.0</td>\n",
       "      <td>10.0</td>\n",
       "      <td>23.0</td>\n",
       "      <td>11.0</td>\n",
       "      <td>28.0</td>\n",
       "      <td>0</td>\n",
       "      <td>4.0</td>\n",
       "      <td>NaN</td>\n",
       "      <td>286.0</td>\n",
       "      <td>94107</td>\n",
       "    </tr>\n",
       "    <tr>\n",
       "      <th>2013-08-29 11:00:00</th>\n",
       "      <td>42</td>\n",
       "      <td>2203.809524</td>\n",
       "      <td>74.0</td>\n",
       "      <td>68.0</td>\n",
       "      <td>61.0</td>\n",
       "      <td>61.0</td>\n",
       "      <td>58.0</td>\n",
       "      <td>56.0</td>\n",
       "      <td>93.0</td>\n",
       "      <td>75.0</td>\n",
       "      <td>...</td>\n",
       "      <td>10.0</td>\n",
       "      <td>10.0</td>\n",
       "      <td>23.0</td>\n",
       "      <td>11.0</td>\n",
       "      <td>28.0</td>\n",
       "      <td>0</td>\n",
       "      <td>4.0</td>\n",
       "      <td>NaN</td>\n",
       "      <td>286.0</td>\n",
       "      <td>94107</td>\n",
       "    </tr>\n",
       "    <tr>\n",
       "      <th>2013-08-29 12:00:00</th>\n",
       "      <td>120</td>\n",
       "      <td>934.833333</td>\n",
       "      <td>74.0</td>\n",
       "      <td>68.0</td>\n",
       "      <td>61.0</td>\n",
       "      <td>61.0</td>\n",
       "      <td>58.0</td>\n",
       "      <td>56.0</td>\n",
       "      <td>93.0</td>\n",
       "      <td>75.0</td>\n",
       "      <td>...</td>\n",
       "      <td>10.0</td>\n",
       "      <td>10.0</td>\n",
       "      <td>23.0</td>\n",
       "      <td>11.0</td>\n",
       "      <td>28.0</td>\n",
       "      <td>0</td>\n",
       "      <td>4.0</td>\n",
       "      <td>NaN</td>\n",
       "      <td>286.0</td>\n",
       "      <td>94107</td>\n",
       "    </tr>\n",
       "    <tr>\n",
       "      <th>2013-08-29 13:00:00</th>\n",
       "      <td>87</td>\n",
       "      <td>3934.103448</td>\n",
       "      <td>74.0</td>\n",
       "      <td>68.0</td>\n",
       "      <td>61.0</td>\n",
       "      <td>61.0</td>\n",
       "      <td>58.0</td>\n",
       "      <td>56.0</td>\n",
       "      <td>93.0</td>\n",
       "      <td>75.0</td>\n",
       "      <td>...</td>\n",
       "      <td>10.0</td>\n",
       "      <td>10.0</td>\n",
       "      <td>23.0</td>\n",
       "      <td>11.0</td>\n",
       "      <td>28.0</td>\n",
       "      <td>0</td>\n",
       "      <td>4.0</td>\n",
       "      <td>NaN</td>\n",
       "      <td>286.0</td>\n",
       "      <td>94107</td>\n",
       "    </tr>\n",
       "  </tbody>\n",
       "</table>\n",
       "<p>5 rows × 25 columns</p>\n",
       "</div>"
      ],
      "text/plain": [
       "                     number_trips     duration  max_temperature_f  \\\n",
       "start_date                                                          \n",
       "2013-08-29 09:00:00            12  1022.500000               74.0   \n",
       "2013-08-29 10:00:00            14  1677.857143               74.0   \n",
       "2013-08-29 11:00:00            42  2203.809524               74.0   \n",
       "2013-08-29 12:00:00           120   934.833333               74.0   \n",
       "2013-08-29 13:00:00            87  3934.103448               74.0   \n",
       "\n",
       "                     mean_temperature_f  min_temperature_f  max_dew_point_f  \\\n",
       "start_date                                                                    \n",
       "2013-08-29 09:00:00                68.0               61.0             61.0   \n",
       "2013-08-29 10:00:00                68.0               61.0             61.0   \n",
       "2013-08-29 11:00:00                68.0               61.0             61.0   \n",
       "2013-08-29 12:00:00                68.0               61.0             61.0   \n",
       "2013-08-29 13:00:00                68.0               61.0             61.0   \n",
       "\n",
       "                     mean_dew_point_f  min_dew_point_f  max_humidity  \\\n",
       "start_date                                                             \n",
       "2013-08-29 09:00:00              58.0             56.0          93.0   \n",
       "2013-08-29 10:00:00              58.0             56.0          93.0   \n",
       "2013-08-29 11:00:00              58.0             56.0          93.0   \n",
       "2013-08-29 12:00:00              58.0             56.0          93.0   \n",
       "2013-08-29 13:00:00              58.0             56.0          93.0   \n",
       "\n",
       "                     mean_humidity  ...  mean_visibility_miles  \\\n",
       "start_date                          ...                          \n",
       "2013-08-29 09:00:00           75.0  ...                   10.0   \n",
       "2013-08-29 10:00:00           75.0  ...                   10.0   \n",
       "2013-08-29 11:00:00           75.0  ...                   10.0   \n",
       "2013-08-29 12:00:00           75.0  ...                   10.0   \n",
       "2013-08-29 13:00:00           75.0  ...                   10.0   \n",
       "\n",
       "                     min_visibility_miles  max_wind_Speed_mph  \\\n",
       "start_date                                                      \n",
       "2013-08-29 09:00:00                  10.0                23.0   \n",
       "2013-08-29 10:00:00                  10.0                23.0   \n",
       "2013-08-29 11:00:00                  10.0                23.0   \n",
       "2013-08-29 12:00:00                  10.0                23.0   \n",
       "2013-08-29 13:00:00                  10.0                23.0   \n",
       "\n",
       "                     mean_wind_speed_mph  max_gust_speed_mph  \\\n",
       "start_date                                                     \n",
       "2013-08-29 09:00:00                 11.0                28.0   \n",
       "2013-08-29 10:00:00                 11.0                28.0   \n",
       "2013-08-29 11:00:00                 11.0                28.0   \n",
       "2013-08-29 12:00:00                 11.0                28.0   \n",
       "2013-08-29 13:00:00                 11.0                28.0   \n",
       "\n",
       "                     precipitation_inches  cloud_cover  events  \\\n",
       "start_date                                                       \n",
       "2013-08-29 09:00:00                     0          4.0     NaN   \n",
       "2013-08-29 10:00:00                     0          4.0     NaN   \n",
       "2013-08-29 11:00:00                     0          4.0     NaN   \n",
       "2013-08-29 12:00:00                     0          4.0     NaN   \n",
       "2013-08-29 13:00:00                     0          4.0     NaN   \n",
       "\n",
       "                     wind_dir_degrees  zip_code  \n",
       "start_date                                       \n",
       "2013-08-29 09:00:00             286.0     94107  \n",
       "2013-08-29 10:00:00             286.0     94107  \n",
       "2013-08-29 11:00:00             286.0     94107  \n",
       "2013-08-29 12:00:00             286.0     94107  \n",
       "2013-08-29 13:00:00             286.0     94107  \n",
       "\n",
       "[5 rows x 25 columns]"
      ]
     },
     "execution_count": 1,
     "metadata": {},
     "output_type": "execute_result"
    }
   ],
   "source": [
    "import pandas as pd\n",
    "from math import ceil\n",
    "\n",
    "pd.set_option('display.max_columns', 20)\n",
    "\n",
    "data_url=r'https://github.com/tplusone/hanser_ml_zeitreihen/blob/master/Daten/trip_weather_hourly.csv?raw=true'\n",
    "df = pd.read_csv(data_url)\n",
    "df['start_date'] = pd.to_datetime(df['start_date'])\n",
    "df = df.set_index('start_date')\n",
    "df.head()"
   ]
  },
  {
   "cell_type": "markdown",
   "metadata": {},
   "source": [
    "#### 2) Features aus Datum extrahieren"
   ]
  },
  {
   "cell_type": "code",
   "execution_count": 2,
   "metadata": {},
   "outputs": [
    {
     "data": {
      "text/html": [
       "<div>\n",
       "<style scoped>\n",
       "    .dataframe tbody tr th:only-of-type {\n",
       "        vertical-align: middle;\n",
       "    }\n",
       "\n",
       "    .dataframe tbody tr th {\n",
       "        vertical-align: top;\n",
       "    }\n",
       "\n",
       "    .dataframe thead th {\n",
       "        text-align: right;\n",
       "    }\n",
       "</style>\n",
       "<table border=\"1\" class=\"dataframe\">\n",
       "  <thead>\n",
       "    <tr style=\"text-align: right;\">\n",
       "      <th></th>\n",
       "      <th>weekday</th>\n",
       "      <th>month</th>\n",
       "      <th>hour</th>\n",
       "    </tr>\n",
       "    <tr>\n",
       "      <th>start_date</th>\n",
       "      <th></th>\n",
       "      <th></th>\n",
       "      <th></th>\n",
       "    </tr>\n",
       "  </thead>\n",
       "  <tbody>\n",
       "    <tr>\n",
       "      <th>2013-08-29 09:00:00</th>\n",
       "      <td>3</td>\n",
       "      <td>8</td>\n",
       "      <td>9</td>\n",
       "    </tr>\n",
       "    <tr>\n",
       "      <th>2013-08-29 10:00:00</th>\n",
       "      <td>3</td>\n",
       "      <td>8</td>\n",
       "      <td>10</td>\n",
       "    </tr>\n",
       "    <tr>\n",
       "      <th>2013-08-29 11:00:00</th>\n",
       "      <td>3</td>\n",
       "      <td>8</td>\n",
       "      <td>11</td>\n",
       "    </tr>\n",
       "    <tr>\n",
       "      <th>2013-08-29 12:00:00</th>\n",
       "      <td>3</td>\n",
       "      <td>8</td>\n",
       "      <td>12</td>\n",
       "    </tr>\n",
       "    <tr>\n",
       "      <th>2013-08-29 13:00:00</th>\n",
       "      <td>3</td>\n",
       "      <td>8</td>\n",
       "      <td>13</td>\n",
       "    </tr>\n",
       "  </tbody>\n",
       "</table>\n",
       "</div>"
      ],
      "text/plain": [
       "                     weekday  month  hour\n",
       "start_date                               \n",
       "2013-08-29 09:00:00        3      8     9\n",
       "2013-08-29 10:00:00        3      8    10\n",
       "2013-08-29 11:00:00        3      8    11\n",
       "2013-08-29 12:00:00        3      8    12\n",
       "2013-08-29 13:00:00        3      8    13"
      ]
     },
     "execution_count": 2,
     "metadata": {},
     "output_type": "execute_result"
    }
   ],
   "source": [
    "df['weekday'] = df.index.weekday\n",
    "df['month'] = df.index.month\n",
    "df['hour'] = df.index.hour\n",
    "df[['weekday', 'month', 'hour']].head()"
   ]
  },
  {
   "cell_type": "markdown",
   "metadata": {},
   "source": [
    "#### 3) Zusammenhang zwischen Ausleihen und  Monat, Wochentag und Stunde graphisch darstellen"
   ]
  },
  {
   "cell_type": "code",
   "execution_count": 3,
   "metadata": {},
   "outputs": [
    {
     "data": {
      "image/png": "[encoded data removed]",
      "text/plain": [
       "<Figure size 1080x288 with 3 Axes>"
      ]
     },
     "metadata": {
      "needs_background": "light"
     },
     "output_type": "display_data"
    }
   ],
   "source": [
    "import seaborn as sns\n",
    "import matplotlib.pyplot as plt\n",
    "\n",
    "fig, axs = plt.subplots(nrows=1, ncols=3, figsize=(15,4))\n",
    "sns.barplot(data=df, x='month', y='number_trips', color='b', ax=axs[0], ci=False)\n",
    "sns.barplot(data=df, x='weekday', y='number_trips', color='r', ax=axs[1], ci=False)\n",
    "sns.barplot(data=df, x='hour', y='number_trips', color='g', ax=axs[2], ci=False)\n",
    "plt.tight_layout()"
   ]
  },
  {
   "cell_type": "markdown",
   "metadata": {},
   "source": [
    "### Regression mit Ausleihen als Zielvariable und Datumsangaben als Prädiktoren\n",
    "#### 1) Aufteilung der Daten in Trainings-/Testdaten"
   ]
  },
  {
   "cell_type": "code",
   "execution_count": 4,
   "metadata": {},
   "outputs": [
    {
     "data": {
      "text/plain": [
       "((14066, 3), (3517, 3), (14066,), (3517,))"
      ]
     },
     "execution_count": 4,
     "metadata": {},
     "output_type": "execute_result"
    }
   ],
   "source": [
    "from sklearn.model_selection import train_test_split\n",
    "\n",
    "X = df[['month', 'weekday', 'hour']]\n",
    "y = df['number_trips']\n",
    "X_train, X_test, y_train, y_test = train_test_split(X, y, test_size=.2, \n",
    "                                            random_state=11)\n",
    "X_train.shape, X_test.shape, y_train.shape, y_test.shape"
   ]
  },
  {
   "cell_type": "markdown",
   "metadata": {},
   "source": [
    "#### 2) One-Hot-Encodierung der Datumsangaben"
   ]
  },
  {
   "cell_type": "code",
   "execution_count": 5,
   "metadata": {},
   "outputs": [
    {
     "data": {
      "text/plain": [
       "((14066, 43), (3517, 43))"
      ]
     },
     "execution_count": 5,
     "metadata": {},
     "output_type": "execute_result"
    }
   ],
   "source": [
    "from sklearn.preprocessing import OneHotEncoder\n",
    "\n",
    "ohe = OneHotEncoder()\n",
    "ohe.fit(X_train)\n",
    "X_train_ohe = ohe.transform(X_train)\n",
    "X_test_ohe = ohe.transform(X_test)\n",
    "X_train_ohe.shape, X_test_ohe.shape"
   ]
  },
  {
   "cell_type": "markdown",
   "metadata": {},
   "source": [
    "#### 3) Anlernen der Regression und Evaluation"
   ]
  },
  {
   "cell_type": "code",
   "execution_count": 6,
   "metadata": {},
   "outputs": [
    {
     "name": "stdout",
     "output_type": "stream",
     "text": [
      "r2 0.665\n"
     ]
    }
   ],
   "source": [
    "from sklearn.linear_model import LinearRegression\n",
    "\n",
    "linear = LinearRegression()\n",
    "linear.fit(X_train_ohe, y_train)\n",
    "r2 = linear.score(X_test_ohe, y_test)\n",
    "print('r2 {:.3f}'.format(r2))"
   ]
  },
  {
   "cell_type": "code",
   "execution_count": null,
   "metadata": {},
   "outputs": [],
   "source": []
  }
 ],
 "metadata": {
  "kernelspec": {
   "display_name": "Python 3",
   "language": "python",
   "name": "python3"
  },
  "language_info": {
   "codemirror_mode": {
    "name": "ipython",
    "version": 3
   },
   "file_extension": ".py",
   "mimetype": "text/x-python",
   "name": "python",
   "nbconvert_exporter": "python",
   "pygments_lexer": "ipython3",
   "version": "3.7.7"
  }
 },
 "nbformat": 4,
 "nbformat_minor": 4
}
